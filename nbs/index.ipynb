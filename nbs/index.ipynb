{
 "cells": [
  {
   "cell_type": "code",
   "execution_count": null,
   "metadata": {},
   "outputs": [],
   "source": [
    "#| hide\n",
    "import mbison.client as dmda"
   ]
  },
  {
   "cell_type": "markdown",
   "metadata": {},
   "source": [
    "# mbison\n",
    "\n",
    "> Hello world from mbison"
   ]
  },
  {
   "cell_type": "markdown",
   "metadata": {},
   "source": [
    "This file will become your README and also the index of your documentation."
   ]
  },
  {
   "cell_type": "markdown",
   "metadata": {},
   "source": [
    "## Install"
   ]
  },
  {
   "cell_type": "markdown",
   "metadata": {},
   "source": [
    "```sh\n",
    "pip install mbison\n",
    "```"
   ]
  },
  {
   "cell_type": "markdown",
   "metadata": {},
   "source": [
    "## How to use\n",
    "\n",
    "> Base classes and routes for authentication, and dealing with api responses.\n",
    "\n",
    "- `client.DomoAuth` encapsulates authentication.  Can init with username/password or access_token\n",
    "- For consistency, use `client.domo_api_request` to handle API requests in route functions.  `domo_api_requests` and `route functions` should always return an instance of `client.ResponseGetData` class.  For streaming responses, use `client.domo_api_stream_request` to automagically download API responses in route functions.\n",
    "- `Route Functions` should always throw an error if not `ResponseGetData.is_success`\n",
    "\n",
    "Features or classes are implemented as separate notebooks and then exported into their own module folder (see `default_exp` line in each .ipynb file)\n",
    "- each feature should be implemented as series of route functions ('GET', 'PUT', 'POST' requests), then a `@dataclass` class may be used to represent the feature with methods that wrap and provide logic around route functions.\n",
    "    - ex. an UPSERT method might wrap logic to test if the entity already exists (in which case call the PUT route) or create the entity if it doesn't already exist ('POST')\n",
    "- `@classmethods` return an instance of the class\n",
    "    - ex. each class should have a `get_by_id` method which returns an instance of the entity (typically the result of the search datacenter API)\n",
    "\n",
    "Implementations, take a set of features and create a use case or project\n",
    "    - ex.back up code engine and custom app (features) into appdb collections (feature)"
   ]
  }
 ],
 "metadata": {
  "kernelspec": {
   "display_name": "python3",
   "language": "python",
   "name": "python3"
  }
 },
 "nbformat": 4,
 "nbformat_minor": 4
}
