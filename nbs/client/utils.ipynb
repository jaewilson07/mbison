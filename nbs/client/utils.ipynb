{
 "cells": [
  {
   "cell_type": "raw",
   "metadata": {},
   "source": [
    "---\n",
    "title: utils\n",
    "output-file: /client/utils.html\n",
    "---"
   ]
  },
  {
   "cell_type": "code",
   "execution_count": null,
   "metadata": {
    "vscode": {
     "languageId": "python"
    }
   },
   "outputs": [],
   "source": [
    "#| default_exp client.utils"
   ]
  },
  {
   "cell_type": "code",
   "execution_count": null,
   "metadata": {
    "vscode": {
     "languageId": "python"
    }
   },
   "outputs": [],
   "source": [
    "#| exporti\n",
    "\n",
    "import os\n",
    "import pathlib\n",
    "\n",
    "import zipfile\n",
    "import io\n",
    "import datetime as dt"
   ]
  },
  {
   "cell_type": "code",
   "execution_count": null,
   "metadata": {
    "vscode": {
     "languageId": "python"
    }
   },
   "outputs": [],
   "source": [
    "#| hide\n",
    "import nbdev"
   ]
  },
  {
   "cell_type": "code",
   "execution_count": null,
   "metadata": {
    "vscode": {
     "languageId": "python"
    }
   },
   "outputs": [],
   "source": [
    "# | exports\n",
    "def upsert_folder(folder_path: str, debug_prn: bool = False):\n",
    "    folder_path = os.path.dirname(folder_path)\n",
    "\n",
    "    if debug_prn:\n",
    "        print(\n",
    "            {\n",
    "                \"upsert_folder\": os.path.abspath(folder_path),\n",
    "                \"is_exist\": os.path.exists(folder_path),\n",
    "            }\n",
    "        )\n",
    "\n",
    "    if not os.path.exists(folder_path):\n",
    "        os.makedirs(folder_path)\n",
    "\n",
    "    return True"
   ]
  },
  {
   "cell_type": "code",
   "execution_count": null,
   "metadata": {
    "vscode": {
     "languageId": "python"
    }
   },
   "outputs": [],
   "source": [
    "#| export \n",
    "def download_zip(\n",
    "        output_folder,\n",
    "        zip_bytes_content: bytes = None,\n",
    "                 zip_file_path : str = None,\n",
    "                  ):\n",
    "    \"\"\"save bytes content to a zip file then convert html to markdown\"\"\"\n",
    "    zip = None\n",
    "    if zip_bytes_content:\n",
    "        zip = zipfile.ZipFile(io.BytesIO(zip_bytes_content), \"r\")\n",
    "    \n",
    "    if zip_file_path:\n",
    "        zip = zipfile.ZipFile(zip_file_path)\n",
    "    \n",
    "    if not zip:\n",
    "        raise Exception(\"unabler to generate zip file pass zip_bytes_content or zip_file_path\")\n",
    "    \n",
    "    zip.extractall(output_folder)\n",
    "\n",
    "    file_ls = os.listdir(output_folder)\n",
    "    return file_ls"
   ]
  },
  {
   "cell_type": "code",
   "execution_count": null,
   "metadata": {
    "vscode": {
     "languageId": "python"
    }
   },
   "outputs": [],
   "source": [
    "# | export\n",
    "\n",
    "\n",
    "def change_suffix(filename, new_extension):\n",
    "    is_exist = os.path.exists(filename)\n",
    "\n",
    "    p = pathlib.PurePath(filename)\n",
    "    p = p.with_suffix(new_extension)\n",
    "\n",
    "    if is_exist:\n",
    "        p = pathlib.Path(filename)\n",
    "        p = p.rename(p.with_suffix(new_extension))\n",
    "\n",
    "    return str(p)"
   ]
  },
  {
   "cell_type": "markdown",
   "metadata": {},
   "source": [
    "#  CONVERT"
   ]
  },
  {
   "cell_type": "code",
   "execution_count": null,
   "metadata": {
    "vscode": {
     "languageId": "python"
    }
   },
   "outputs": [],
   "source": [
    "#| exports\n",
    "def convert_string_to_datetime(datestr: str) -> dt.datetime:\n",
    "    if not datestr:\n",
    "        return None\n",
    "    return parser.parse(datestr)"
   ]
  },
  {
   "cell_type": "code",
   "execution_count": null,
   "metadata": {
    "vscode": {
     "languageId": "python"
    }
   },
   "outputs": [],
   "source": [
    "#| hide\n",
    "\n",
    "nbdev.nbdev_export('./utils.ipynb')"
   ]
  }
 ],
 "metadata": {
  "kernelspec": {
   "display_name": "python3",
   "language": "python",
   "name": "python3"
  }
 },
 "nbformat": 4,
 "nbformat_minor": 2
}
