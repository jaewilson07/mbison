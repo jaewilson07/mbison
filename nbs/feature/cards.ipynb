{
 "cells": [
  {
   "cell_type": "raw",
   "metadata": {
    "vscode": {
     "languageId": "raw"
    }
   },
   "source": [
    "\n",
    "---\n",
    "title: cards\n",
    "output-file: feature/cards.html\n",
    "---"
   ]
  },
  {
   "cell_type": "code",
   "execution_count": 1,
   "metadata": {},
   "outputs": [],
   "source": [
    "#| default_exp feature.cards"
   ]
  },
  {
   "cell_type": "code",
   "execution_count": 2,
   "metadata": {},
   "outputs": [],
   "source": [
    "#| exporti\n",
    "\n",
    "from dataclasses import dataclass, field\n",
    "\n",
    "from typing import List, Any\n",
    "\n",
    "import mbison.client.core as dmda\n",
    "import mbison.client.utils as dmut\n",
    "from copy import deepcopy\n",
    "\n",
    "from nbdev.showdoc import patch_to\n",
    "\n",
    "import json\n",
    "import os"
   ]
  },
  {
   "cell_type": "code",
   "execution_count": 3,
   "metadata": {},
   "outputs": [],
   "source": [
    "#| hide\n",
    "import nbdev\n",
    "from pprint import pprint"
   ]
  },
  {
   "cell_type": "code",
   "execution_count": 4,
   "metadata": {},
   "outputs": [
    {
     "data": {
      "text/plain": [
       "DomoAuth(domo_instance='domo-community', username=None)"
      ]
     },
     "execution_count": 4,
     "metadata": {},
     "output_type": "execute_result"
    }
   ],
   "source": [
    "auth = dmda.DomoAuth(\n",
    "    domo_instance=os.environ[\"DOMO_INSTANCE\"],\n",
    "    access_token=os.environ[\"DOMO_ACCESS_TOKEN\"],\n",
    ")\n",
    "auth"
   ]
  },
  {
   "cell_type": "markdown",
   "metadata": {},
   "source": [
    "## Routes"
   ]
  },
  {
   "cell_type": "code",
   "execution_count": 5,
   "metadata": {},
   "outputs": [],
   "source": [
    "card_id = '577316875'"
   ]
  },
  {
   "cell_type": "code",
   "execution_count": 6,
   "metadata": {},
   "outputs": [],
   "source": [
    "#| exports\n",
    "class Cards_API_Exception(dmda.API_Exception):\n",
    "    def __init__(self, res, message=None):\n",
    "\n",
    "        super().__init__(res=res, message=message)"
   ]
  },
  {
   "cell_type": "code",
   "execution_count": 7,
   "metadata": {},
   "outputs": [],
   "source": [
    "# | exports\n",
    "\n",
    "def generate_search_cards_only_apps_filter():\n",
    "    return {\n",
    "        \"includeCardTypeClause\": True,\n",
    "        \"cardTypes\": [\"domoapp\", \"mason\", \"custom\"],\n",
    "        \"ascending\": True,\n",
    "        \"orderBy\": \"cardTitle\",\n",
    "    }\n",
    "\n",
    "def search_cards(\n",
    "    auth: dmda.DomoAuth,\n",
    "    query: dict = None,\n",
    "    debug_api: bool = False,\n",
    "    return_raw: bool = False,\n",
    "    debug_loop: bool = False,\n",
    "    limit: int = 100,\n",
    "    offset: int = 0,\n",
    "    optional_parts : str = 'certification,datasources,drillPath,owners,properties,domoapp'\n",
    "):\n",
    "\n",
    "    endpoint = \"/api/content/v2/cards/adminsummary\"\n",
    "    query = query or {}\n",
    "    \n",
    "\n",
    "\n",
    "    def arr_fn(res):\n",
    "        if res.status == 429:\n",
    "            return []\n",
    "        \n",
    "        return res.response.get(\"cardAdminSummaries\", [])\n",
    "    \n",
    "    res = dmda.looper(\n",
    "        auth=auth,\n",
    "        arr_fn=arr_fn,\n",
    "        offset_params={\"limit\": \"limit\", \"offset\": \"skip\"},\n",
    "        offset_params_is_header=True,\n",
    "        params = {'parts': optional_parts},\n",
    "\n",
    "        request_type=\"POST\",\n",
    "        endpoint=endpoint,\n",
    "\n",
    "        debug_api=debug_api,\n",
    "        return_raw=return_raw,\n",
    "        debug_loop=debug_loop, \n",
    "\n",
    "        # params = params\n",
    "\n",
    "        body=query,\n",
    "        limit=limit,\n",
    "        offset=offset,\n",
    "\n",
    "    )\n",
    "\n",
    "    if not res.is_success:\n",
    "        print(res)\n",
    "        raise Cards_API_Exception(res=res)\n",
    "\n",
    "    return res"
   ]
  },
  {
   "cell_type": "code",
   "execution_count": 8,
   "metadata": {},
   "outputs": [
    {
     "name": "stdout",
     "output_type": "stream",
     "text": [
      "195\n"
     ]
    },
    {
     "data": {
      "text/plain": [
       "[{'owners': [{'id': '1728973208',\n",
       "    'type': 'USER',\n",
       "    'displayName': 'Peter Shull'}],\n",
       "  'id': 528432108,\n",
       "  'type': 'domoapp',\n",
       "  'badgeUpdated': 1711677072000,\n",
       "  'title': '100 People',\n",
       "  'locked': False,\n",
       "  'pageHierarchy': [{'pageId': 682992709, 'title': 'LLM Testing'}]}]"
      ]
     },
     "execution_count": 8,
     "metadata": {},
     "output_type": "execute_result"
    }
   ],
   "source": [
    "\n",
    "query = generate_search_cards_only_apps_filter()\n",
    "\n",
    "res = search_cards(\n",
    "    auth=auth,\n",
    "    query=query,\n",
    "    return_raw=False,\n",
    "    debug_loop=False,\n",
    "    debug_api=False,\n",
    "    offset = 0)\n",
    "\n",
    "cards =res.response\n",
    "\n",
    "print(len(cards))\n",
    "cards[0:1]"
   ]
  },
  {
   "cell_type": "code",
   "execution_count": 9,
   "metadata": {},
   "outputs": [],
   "source": [
    "# | exports\n",
    "\n",
    "optional_parts = [\n",
    "    \"certification\",\n",
    "    \"datasources\",\n",
    "    \"domoapp\",\n",
    "    \"drillPath\",\n",
    "    \"masonData\",\n",
    "    \"metadata\",\n",
    "    \"owners\",\n",
    "    \"problems\",\n",
    "    \"properties\",\n",
    "]\n",
    "\n",
    "\n",
    "def get_card_by_id(card_id, auth: dmda.DomoAuth, optional_parts = 'certification,datasources,drillPath,owners,properties,domoapp', debug_api: bool = False, return_raw: bool = False):\n",
    "    endpoint = \"/api/content/v1/cards/\"\n",
    "\n",
    "    params = {\"parts\": optional_parts, \"urns\": card_id}\n",
    "\n",
    "    res = dmda.domo_api_request(\n",
    "\n",
    "        auth=auth,\n",
    "\n",
    "        request_type=\"GET\",\n",
    "        endpoint=endpoint,\n",
    "\n",
    "        debug_api=debug_api,\n",
    "        params=params,\n",
    "\n",
    "    )\n",
    "\n",
    "    if not res.is_success:\n",
    "        raise Cards_API_Exception(res=res)\n",
    "    \n",
    "    if return_raw:\n",
    "        return res\n",
    "    \n",
    "    res.response = res.response[0]\n",
    "    \n",
    "\n",
    "    return res"
   ]
  },
  {
   "cell_type": "code",
   "execution_count": 10,
   "metadata": {},
   "outputs": [
    {
     "data": {
      "text/plain": [
       "{'domoapp': {'id': 'aace1266-dc7f-42cb-8595-46069d91a703'},\n",
       " 'drillPath': {},\n",
       " 'owners': [{'id': '1728973208',\n",
       "   'type': 'USER',\n",
       "   'displayName': 'Peter Shull'}],\n",
       " 'datasources': [{'dataSourceId': 'b995e5ba-b1cc-4dff-89f7-d8949c0d0aad',\n",
       "   'dataSourceName': 'Example Sales Data',\n",
       "   'displayType': 'webform',\n",
       "   'dataType': 'webform',\n",
       "   'providerType': 'webform',\n",
       "   'isSampleData': False,\n",
       "   'lastUpdated': 1711668314801,\n",
       "   'adc': False,\n",
       "   'phase': None,\n",
       "   'state': 'SUCCESS'},\n",
       "  {'dataSourceId': '2b0016a7-02bd-45b4-a9fe-b33fbf5b365e',\n",
       "   'dataSourceName': '100people',\n",
       "   'displayType': 'large-file-upload',\n",
       "   'dataType': 'large-file-upload',\n",
       "   'providerType': 'large-file-upload',\n",
       "   'isSampleData': False,\n",
       "   'lastUpdated': 1711674871363,\n",
       "   'adc': False,\n",
       "   'phase': None,\n",
       "   'state': 'SUCCESS'}],\n",
       " 'certification': {'state': 'NOT_CERTIFIED', 'adminCertified': False},\n",
       " 'urn': '528432108',\n",
       " 'id': 528432108,\n",
       " 'type': 'domoapp',\n",
       " 'created': 1711668314,\n",
       " 'badgeUpdated': 1711677072000,\n",
       " 'creatorId': 1728973208,\n",
       " 'ownerId': 1728973208,\n",
       " 'title': '100 People',\n",
       " 'active': True,\n",
       " 'allowTableDrill': True,\n",
       " 'locked': False,\n",
       " 'isCurrentUserOwner': False}"
      ]
     },
     "execution_count": 10,
     "metadata": {},
     "output_type": "execute_result"
    }
   ],
   "source": [
    "card= (get_card_by_id(card_id=cards[0]['id'], auth = auth)).response\n",
    "card"
   ]
  },
  {
   "cell_type": "markdown",
   "metadata": {},
   "source": [
    "### classes"
   ]
  },
  {
   "cell_type": "code",
   "execution_count": 11,
   "metadata": {},
   "outputs": [],
   "source": [
    "#| exports\n",
    "\n",
    "@dataclass\n",
    "class DomoCard:\n",
    "    id: str\n",
    "    auth: dmda.DomoAuth = field(repr=False)\n",
    "    title: str = None\n",
    "    description: str = None\n",
    "    type: str = None\n",
    "    urn: str = None\n",
    "    chart_type: str = None\n",
    "    dataset_id: str = None\n",
    "\n",
    "    datastore_id : str = None\n",
    "    \n",
    "    domo_collections: List[Any] = None\n",
    "    domo_source_code : Any = None\n",
    "\n",
    "    owners: List[any] = None\n",
    "\n",
    "    def display_url(self) -> str:\n",
    "        return f\"https://{self.auth.domo_instance}.domo.com/kpis/details/{self.id}\"\n",
    "    \n",
    "\n",
    "    @classmethod\n",
    "    def _from_json(cls, obj : dict, auth: dmda.DomoAuth):\n",
    "\n",
    "        card = cls(\n",
    "            auth=auth,\n",
    "            id=obj['id'],\n",
    "            title=obj['title'],\n",
    "            type= obj['type'],\n",
    "            urn= obj['urn'],\n",
    "            description= obj.get('description'),\n",
    "            owners = obj.get('owners')\n",
    "        )\n",
    "\n",
    "        if obj.get('domoapp',{}).get('id'):\n",
    "            card.datastore_id = obj['domoapp']['id']\n",
    "    \n",
    "        return card\n",
    "\n",
    "    @classmethod\n",
    "    def get_by_id(\n",
    "        cls,\n",
    "        card_id: str,\n",
    "        auth: dmda.DomoAuth,\n",
    "        debug_api: bool = False,\n",
    "        return_raw: bool = False\n",
    "    ):\n",
    "        res = get_card_by_id(\n",
    "            auth=auth,\n",
    "            card_id=card_id, \n",
    "            debug_api=debug_api\n",
    "        )\n",
    "\n",
    "        if return_raw:\n",
    "            return res\n",
    "\n",
    "\n",
    "        return cls._from_json(res.response, auth)\n"
   ]
  },
  {
   "cell_type": "code",
   "execution_count": 12,
   "metadata": {},
   "outputs": [
    {
     "data": {
      "text/plain": [
       "DomoCard(id=355758291, title='Phoenix Stacked Bar Chart Brick', description=None, type='domoapp', urn='355758291', chart_type=None, dataset_id=None, datastore_id='be4d8af8-b48f-4ae8-ab5f-f010dcfd865f', domo_collections=None, domo_source_code=None, owners=[{'id': '1334846498', 'type': 'USER', 'displayName': 'Jonathan Pilafas'}])"
      ]
     },
     "execution_count": 12,
     "metadata": {},
     "output_type": "execute_result"
    }
   ],
   "source": [
    "DomoCard.get_by_id(\n",
    "    card_id=355758291,\n",
    "    auth = auth,\n",
    "    return_raw = False\n",
    ")"
   ]
  },
  {
   "cell_type": "code",
   "execution_count": 13,
   "metadata": {},
   "outputs": [],
   "source": [
    "# | exports\n",
    "\n",
    "class Card_DownloadSourceCode(dmda.Class_Exception):\n",
    "    def __init__(self, cls, auth, message):\n",
    "        super().__init__(cls = cls, auth = auth, message = message)\n",
    "\n",
    "\n",
    "\n",
    "@patch_to(DomoCard)\n",
    "def get_collections(self, debug_api: bool = False, return_raw: bool = False):\n",
    "    import mbison.feature.appdb as dmdb\n",
    "\n",
    "    res = dmdb.get_collections(\n",
    "        datastore_id=self.datastore_id, auth=self.auth, debug_api=debug_api\n",
    "    )\n",
    "\n",
    "    if return_raw:\n",
    "        return res\n",
    "\n",
    "    self.domo_collections = [\n",
    "        dmdb.AppDbCollection.get_by_id(\n",
    "            collection_id=obj[\"id\"], auth=self.auth, debug_api=debug_api\n",
    "        )\n",
    "        for obj in res.response\n",
    "    ]\n",
    "\n",
    "    return self.domo_collections\n",
    "\n",
    "\n",
    "@patch_to(DomoCard)\n",
    "def get_source_code(self, debug_api: bool = False, try_auto_share: bool = False):\n",
    "\n",
    "    self.get_collections(debug_api=debug_api)\n",
    "\n",
    "    collection_name = \"ddx_app_client_code\"\n",
    "    code_collection = next(\n",
    "        (\n",
    "            domo_collection\n",
    "            for domo_collection in self.domo_collections\n",
    "            if domo_collection.name == collection_name\n",
    "        ),\n",
    "        None,\n",
    "    )\n",
    "\n",
    "    if not code_collection:\n",
    "        raise Card_DownloadSourceCode(\n",
    "            cls=deepcopy(self),\n",
    "            auth=self.auth,\n",
    "            message=f\"collection - {collection_name} not found for {self.title} - {self.id}\",\n",
    "        )\n",
    "\n",
    "    documents = code_collection.query_documents(\n",
    "        debug_api=debug_api, try_auto_share=try_auto_share\n",
    "    )\n",
    "\n",
    "    if not documents:\n",
    "        raise Card_DownloadSourceCode(\n",
    "            cls=deepcopy(self),\n",
    "            auth=self.auth,\n",
    "            message=f\"collection - {collection_name} - {code_collection.id} - unable to retrieve documents for {self.title} - {self.id}\",\n",
    "        )\n",
    "\n",
    "    self.domo_source_code = documents[0]\n",
    "\n",
    "    return self.domo_source_code\n",
    "\n",
    "\n",
    "@patch_to(DomoCard)\n",
    "def download_source_code(\n",
    "    self,\n",
    "    download_folder=\"./EXPORT/\",\n",
    "    file_name=None,\n",
    "    debug_api: bool = False,\n",
    "    try_auto_share: bool = False,\n",
    "):\n",
    "    doc = self.get_source_code(debug_api=debug_api, try_auto_share=try_auto_share)\n",
    "\n",
    "    if file_name:\n",
    "        download_path = os.path.join(\n",
    "            download_folder, dmut.change_suffix(file_name, new_extension=\".json\")\n",
    "        )\n",
    "        dmut.upsert_folder(download_path)\n",
    "\n",
    "        with open(download_path, \"w+\", encoding=\"utf-8\") as f:\n",
    "            f.write(json.dumps(doc.content))\n",
    "            return doc\n",
    "\n",
    "    ddx_type = next(iter(doc.content))\n",
    "\n",
    "\n",
    "    for key, value in doc.content[ddx_type].items():\n",
    "        if key == \"js\":\n",
    "            file_name = \"app.js\"\n",
    "        elif key == \"html\":\n",
    "            file_name = \"index.html\"\n",
    "        elif key == \"css\":\n",
    "            file_name = \"styles.css\"\n",
    "        else:\n",
    "            file_name = f\"{key}.txt\"\n",
    "\n",
    "        download_path = os.path.join(\n",
    "            download_folder, f\"{ddx_type}/{self.id}/{file_name}\"\n",
    "        )\n",
    "        dmut.upsert_folder(download_path)\n",
    "\n",
    "        with open(download_path, \"w+\", encoding=\"utf-8\") as f:\n",
    "            f.write(value)\n",
    "\n",
    "    return doc"
   ]
  },
  {
   "cell_type": "code",
   "execution_count": 16,
   "metadata": {},
   "outputs": [
    {
     "name": "stdout",
     "output_type": "stream",
     "text": [
      "js app.js\n",
      "html index.html\n",
      "css styles.css\n"
     ]
    },
    {
     "data": {
      "text/plain": [
       "AppDbDocument(_collection_id='475cc3b8-4318-406a-8070-c023bf0b9152', _identity_columns=[], _id='3ed44deb-ce70-4e88-9fc7-985cb7f21435', _created_on_dt=datetime.datetime(2023, 5, 5, 21, 54, 30, 178000, tzinfo=tzutc()), _updated_on_dt=datetime.datetime(2023, 11, 2, 15, 18, 2, 629000, tzinfo=tzutc()), content={'htmlBlank': {'js': \"// DDX Bricks Wiki - See https://developer.domo.com/docs/ddx-bricks/getting-started-using-ddx-bricks\\n// for tips on getting started, linking to Domo data and debugging your app\\n \\n//Available globals\\nvar domo = window.domo; // For more on domo.js: https://developer.domo.com/docs/dev-studio-guides/domo-js#domo.get\\nvar datasets = window.datasets;\\n\\n//Step 1. Select your dataset(s) from the button in the bottom left corner\\n\\n\\n\\n//Step 2. Query your dataset(s): https://developer.domo.com/docs/dev-studio-references/data-api\\nvar fields = ['state', 'revenue'];\\nvar groupby = ['state'];\\nvar query = `/data/v1/${datasets[0]}?fields=${fields.join()}&groupby=${groupby.join()}`;\\ndomo.get(query).then(handleResult);\\n\\n\\n\\n//Step 3. Do something with the data from the query result\\nfunction handleResult(data){\\n  console && console.log(data);\\n}\", 'html': '', 'css': ''}})"
      ]
     },
     "execution_count": 16,
     "metadata": {},
     "output_type": "execute_result"
    }
   ],
   "source": [
    "domo_card = DomoCard.get_by_id(card_id=577316875, auth=auth, return_raw=False)\n",
    "\n",
    "# domo_source_code_document = domo_card.get_source_code()\n",
    "# pprint(domo_source_code_document.content)\n",
    "\n",
    "domo_card.download_source_code(download_folder=\"../../TEST/\")"
   ]
  },
  {
   "cell_type": "code",
   "execution_count": 17,
   "metadata": {},
   "outputs": [],
   "source": [
    "#| hide\n",
    "\n",
    "nbdev.nbdev_export('./cards.ipynb')"
   ]
  }
 ],
 "metadata": {
  "kernelspec": {
   "display_name": "python3",
   "language": "python",
   "name": "python3"
  },
  "language_info": {
   "codemirror_mode": {
    "name": "ipython",
    "version": 3
   },
   "file_extension": ".py",
   "mimetype": "text/x-python",
   "name": "python",
   "nbconvert_exporter": "python",
   "pygments_lexer": "ipython3",
   "version": "3.10.9"
  }
 },
 "nbformat": 4,
 "nbformat_minor": 2
}
