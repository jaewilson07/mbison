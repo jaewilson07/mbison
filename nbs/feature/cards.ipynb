{
 "cells": [
  {
   "cell_type": "raw",
   "metadata": {
    "vscode": {
     "languageId": "raw"
    }
   },
   "source": [
    "\n",
    "---\n",
    "title: cards\n",
    "output-file: feature/cards.html\n",
    "---"
   ]
  },
  {
   "cell_type": "code",
   "execution_count": 1,
   "metadata": {},
   "outputs": [],
   "source": [
    "#| default_exp feature.cards"
   ]
  },
  {
   "cell_type": "code",
   "execution_count": 2,
   "metadata": {},
   "outputs": [],
   "source": [
    "#| exporti\n",
    "\n",
    "from dataclasses import dataclass, field\n",
    "\n",
    "from typing import List, Any\n",
    "import datetime as dt\n",
    "from numbers import Number\n",
    "\n",
    "import mbison.client.core as dmda\n",
    "import mbison.client.utils as dmut\n",
    "\n",
    "from nbdev.showdoc import patch_to"
   ]
  },
  {
   "cell_type": "code",
   "execution_count": 3,
   "metadata": {},
   "outputs": [],
   "source": [
    "#| hide\n",
    "import nbdev\n",
    "import os\n",
    "from pprint import pprint"
   ]
  },
  {
   "cell_type": "code",
   "execution_count": 4,
   "metadata": {},
   "outputs": [
    {
     "data": {
      "text/plain": [
       "DomoAuth(domo_instance='domo-community', username=None)"
      ]
     },
     "execution_count": 4,
     "metadata": {},
     "output_type": "execute_result"
    }
   ],
   "source": [
    "auth = dmda.DomoAuth(\n",
    "    domo_instance=os.environ[\"DOMO_INSTANCE\"],\n",
    "    access_token=os.environ[\"DOMO_ACCESS_TOKEN\"],\n",
    ")\n",
    "auth"
   ]
  },
  {
   "cell_type": "markdown",
   "metadata": {},
   "source": [
    "## Routes"
   ]
  },
  {
   "cell_type": "code",
   "execution_count": 5,
   "metadata": {},
   "outputs": [],
   "source": [
    "card_id = '577316875'"
   ]
  },
  {
   "cell_type": "code",
   "execution_count": 6,
   "metadata": {},
   "outputs": [],
   "source": [
    "#| exports\n",
    "class Cards_API_Exception(dmda.API_Exception):\n",
    "    def __init__(self, res, message=None):\n",
    "\n",
    "        super().__init__(res=res, message=message)"
   ]
  },
  {
   "cell_type": "code",
   "execution_count": 7,
   "metadata": {},
   "outputs": [],
   "source": [
    "# | exports\n",
    "\n",
    "def generate_search_cards_only_apps_filter():\n",
    "    return {\n",
    "        \"includeCardTypeClause\": True,\n",
    "        \"cardTypes\": [\"domoapp\", \"mason\", \"custom\"],\n",
    "        \"ascending\": True,\n",
    "        \"orderBy\": \"cardTitle\",\n",
    "    }\n",
    "\n",
    "def search_cards(\n",
    "    auth: dmda.DomoAuth,\n",
    "    query: dict = None,\n",
    "    debug_api: bool = False,\n",
    "    return_raw: bool = False,\n",
    "    debug_loop: bool = False,\n",
    "    limit: int = 100,\n",
    "    offset: int = 0,\n",
    "):\n",
    "\n",
    "    endpoint = \"/api/content/v2/cards/adminsummary\"\n",
    "    query = query or {}\n",
    "    \n",
    "\n",
    "\n",
    "    def arr_fn(res):\n",
    "        if res.status == 429:\n",
    "            return []\n",
    "        \n",
    "        return res.response.get(\"cardAdminSummaries\", [])\n",
    "    \n",
    "    res = dmda.looper(\n",
    "        auth=auth,\n",
    "        arr_fn=arr_fn,\n",
    "        offset_params={\"limit\": \"limit\", \"offset\": \"skip\"},\n",
    "        offset_params_is_header=True,\n",
    "\n",
    "        request_type=\"POST\",\n",
    "        endpoint=endpoint,\n",
    "\n",
    "        debug_api=debug_api,\n",
    "        return_raw=return_raw,\n",
    "        debug_loop=debug_loop, \n",
    "\n",
    "        # params = params\n",
    "\n",
    "        body=query,\n",
    "        limit=limit,\n",
    "        offset=offset,\n",
    "\n",
    "    )\n",
    "\n",
    "    if not res.is_success:\n",
    "        print(res)\n",
    "        raise Cards_API_Exception(res=res)\n",
    "\n",
    "    return res"
   ]
  },
  {
   "cell_type": "code",
   "execution_count": 8,
   "metadata": {},
   "outputs": [
    {
     "name": "stdout",
     "output_type": "stream",
     "text": [
      "191\n"
     ]
    },
    {
     "data": {
      "text/plain": [
       "[{'owners': [{'id': '1728973208',\n",
       "    'type': 'USER',\n",
       "    'displayName': 'Peter Shull'}],\n",
       "  'id': 528432108,\n",
       "  'type': 'domoapp',\n",
       "  'badgeUpdated': 1711677072000,\n",
       "  'title': '100 People',\n",
       "  'locked': False,\n",
       "  'pageHierarchy': [{'pageId': 682992709, 'title': 'LLM Testing'}]}]"
      ]
     },
     "execution_count": 8,
     "metadata": {},
     "output_type": "execute_result"
    }
   ],
   "source": [
    "\n",
    "query = generate_search_cards_only_apps_filter()\n",
    "\n",
    "res = search_cards(\n",
    "    auth=auth,\n",
    "    query=query,\n",
    "    return_raw=False,\n",
    "    debug_loop=False,\n",
    "    debug_api=False,\n",
    "    offset = 0)\n",
    "\n",
    "cards =res.response\n",
    "\n",
    "print(len(cards))\n",
    "cards[0:1]"
   ]
  },
  {
   "cell_type": "code",
   "execution_count": 9,
   "metadata": {},
   "outputs": [],
   "source": [
    "# | exports\n",
    "\n",
    "optional_parts = [\n",
    "    \"certification\",\n",
    "    \"datasources\",\n",
    "    \"domoapp\",\n",
    "    \"drillPath\",\n",
    "    \"masonData\",\n",
    "    \"metadata\",\n",
    "    \"owners\",\n",
    "    \"problems\",\n",
    "    \"properties\",\n",
    "]\n",
    "\n",
    "\n",
    "def get_card_by_id(card_id, auth: dmda.DomoAuth, optional_parts = 'certification,datasources,drillPath,owners,properties,domoapp', debug_api: bool = False, return_raw: bool = False):\n",
    "    endpoint = \"/api/content/v1/cards/\"\n",
    "\n",
    "    params = {\"parts\": optional_parts, \"urns\": card_id}\n",
    "\n",
    "    res = dmda.domo_api_request(\n",
    "\n",
    "        auth=auth,\n",
    "\n",
    "        request_type=\"GET\",\n",
    "        endpoint=endpoint,\n",
    "\n",
    "        debug_api=debug_api,\n",
    "        params=params,\n",
    "\n",
    "    )\n",
    "\n",
    "    if not res.is_success:\n",
    "        raise Cards_API_Exception(res=res)\n",
    "    \n",
    "    if return_raw:\n",
    "        return res\n",
    "    \n",
    "    res.response = res.response[0]\n",
    "    \n",
    "\n",
    "    return res"
   ]
  },
  {
   "cell_type": "code",
   "execution_count": 10,
   "metadata": {},
   "outputs": [
    {
     "data": {
      "text/plain": [
       "{'domoapp': {'id': 'aace1266-dc7f-42cb-8595-46069d91a703'},\n",
       " 'drillPath': {},\n",
       " 'owners': [{'id': '1728973208',\n",
       "   'type': 'USER',\n",
       "   'displayName': 'Peter Shull'}],\n",
       " 'datasources': [{'dataSourceId': 'b995e5ba-b1cc-4dff-89f7-d8949c0d0aad',\n",
       "   'dataSourceName': 'Example Sales Data',\n",
       "   'displayType': 'webform',\n",
       "   'dataType': 'webform',\n",
       "   'providerType': 'webform',\n",
       "   'isSampleData': False,\n",
       "   'lastUpdated': 1711668314801,\n",
       "   'adc': False,\n",
       "   'phase': None,\n",
       "   'state': 'SUCCESS'},\n",
       "  {'dataSourceId': '2b0016a7-02bd-45b4-a9fe-b33fbf5b365e',\n",
       "   'dataSourceName': '100people',\n",
       "   'displayType': 'large-file-upload',\n",
       "   'dataType': 'large-file-upload',\n",
       "   'providerType': 'large-file-upload',\n",
       "   'isSampleData': False,\n",
       "   'lastUpdated': 1711674871363,\n",
       "   'adc': False,\n",
       "   'phase': None,\n",
       "   'state': 'SUCCESS'}],\n",
       " 'certification': {'state': 'NOT_CERTIFIED', 'adminCertified': False},\n",
       " 'urn': '528432108',\n",
       " 'id': 528432108,\n",
       " 'type': 'domoapp',\n",
       " 'created': 1711668314,\n",
       " 'badgeUpdated': 1711677072000,\n",
       " 'creatorId': 1728973208,\n",
       " 'ownerId': 1728973208,\n",
       " 'title': '100 People',\n",
       " 'active': True,\n",
       " 'allowTableDrill': True,\n",
       " 'locked': False,\n",
       " 'isCurrentUserOwner': False}"
      ]
     },
     "execution_count": 10,
     "metadata": {},
     "output_type": "execute_result"
    }
   ],
   "source": [
    "card= (get_card_by_id(card_id=cards[0]['id'], auth = auth)).response\n",
    "card"
   ]
  },
  {
   "cell_type": "markdown",
   "metadata": {},
   "source": [
    "### classes"
   ]
  },
  {
   "cell_type": "code",
   "execution_count": 11,
   "metadata": {},
   "outputs": [],
   "source": [
    "#| exports\n",
    "\n",
    "@dataclass\n",
    "class DomoCard:\n",
    "    id: str\n",
    "    auth: dmda.DomoAuth = field(repr=False)\n",
    "    title: str = None\n",
    "    description: str = None\n",
    "    type: str = None\n",
    "    urn: str = None\n",
    "    chart_type: str = None\n",
    "    dataset_id: str = None\n",
    "\n",
    "    datastore_id : str = None\n",
    "    \n",
    "    domo_collections: List[Any] = None\n",
    "    domo_source_code : Any = None\n",
    "\n",
    "    owners: List[any] = None\n",
    "\n",
    "    def display_url(self) -> str:\n",
    "        return f\"https://{self.auth.domo_instance}.domo.com/kpis/details/{self.id}\"\n",
    "    \n",
    "\n",
    "    @classmethod\n",
    "    def _from_json(cls, obj : dict, auth: dmda.DomoAuth):\n",
    "\n",
    "        card = cls(\n",
    "            auth=auth,\n",
    "            id=obj['id'],\n",
    "            title=obj['title'],\n",
    "            type= obj['type'],\n",
    "            urn= obj['urn'],\n",
    "            description= obj.get('description'),\n",
    "            owners = obj.get('owners')\n",
    "        )\n",
    "\n",
    "        if obj.get('domoapp',{}).get('id'):\n",
    "            card.datastore_id = obj['domoapp']['id']\n",
    "    \n",
    "        return card\n",
    "\n",
    "    @classmethod\n",
    "    def get_by_id(\n",
    "        cls,\n",
    "        card_id: str,\n",
    "        auth: dmda.DomoAuth,\n",
    "        debug_api: bool = False,\n",
    "        return_raw: bool = False\n",
    "    ):\n",
    "        res = get_card_by_id(\n",
    "            auth=auth,\n",
    "            card_id=card_id, \n",
    "            debug_api=debug_api\n",
    "        )\n",
    "\n",
    "        if return_raw:\n",
    "            return res\n",
    "\n",
    "\n",
    "        return cls._from_json(res.response, auth)\n"
   ]
  },
  {
   "cell_type": "code",
   "execution_count": 12,
   "metadata": {},
   "outputs": [
    {
     "data": {
      "text/plain": [
       "DomoCard(id=355758291, title='Phoenix Stacked Bar Chart Brick', description=None, type='domoapp', urn='355758291', chart_type=None, dataset_id=None, datastore_id='be4d8af8-b48f-4ae8-ab5f-f010dcfd865f', domo_collections=None, domo_source_code=None, owners=[{'id': '1334846498', 'type': 'USER', 'displayName': 'Jonathan Pilafas'}])"
      ]
     },
     "execution_count": 12,
     "metadata": {},
     "output_type": "execute_result"
    }
   ],
   "source": [
    "DomoCard.get_by_id(\n",
    "    card_id=355758291,\n",
    "    auth = auth,\n",
    "    return_raw = False\n",
    ")"
   ]
  },
  {
   "cell_type": "code",
   "execution_count": 16,
   "metadata": {},
   "outputs": [],
   "source": [
    "#| exports\n",
    "\n",
    "@patch_to(DomoCard)\n",
    "def get_collections(self, debug_api : bool = False, return_raw: bool = False):\n",
    "    import mbison.feature.appdb as dmdb\n",
    "    \n",
    "    res  = dmdb.get_collections(datastore_id= self.datastore_id, auth = auth, debug_api= debug_api)\n",
    "\n",
    "    if return_raw:\n",
    "        return res\n",
    "\n",
    "    self.domo_collections = [ dmdb.AppDbCollection.get_by_id(collection_id = obj['id'], auth = auth, debug_api = debug_api) for obj in res.response]\n",
    "\n",
    "    return self.domo_collections\n",
    "\n",
    "\n",
    "@patch_to(DomoCard)\n",
    "def get_source_code(self, debug_api : bool = False):\n",
    "    self.get_collections(debug_api = debug_api)\n",
    "\n",
    "    collection_name = 'ddx_app_client_code'\n",
    "    code_collection = next((domo_collection for domo_collection in self.domo_collections if domo_collection.name ==collection_name), None)\n",
    "\n",
    "    if not code_collection:\n",
    "        raise dmda.Class_Exception(cls = self, message = f\"collection - {collection_name} not found\")\n",
    "    \n",
    "    self.domo_source_code = code_collection.query_documents(debug_api = debug_api)[0]\n",
    "\n",
    "    return self.domo_source_code\n"
   ]
  },
  {
   "cell_type": "code",
   "execution_count": 19,
   "metadata": {},
   "outputs": [
    {
     "name": "stdout",
     "output_type": "stream",
     "text": [
      "{'htmlBlank': {'css': '',\n",
      "               'html': '',\n",
      "               'js': '// DDX Bricks Wiki - See '\n",
      "                     'https://developer.domo.com/docs/ddx-bricks/getting-started-using-ddx-bricks\\n'\n",
      "                     '// for tips on getting started, linking to Domo data and '\n",
      "                     'debugging your app\\n'\n",
      "                     ' \\n'\n",
      "                     '//Available globals\\n'\n",
      "                     'var domo = window.domo; // For more on domo.js: '\n",
      "                     'https://developer.domo.com/docs/dev-studio-guides/domo-js#domo.get\\n'\n",
      "                     'var datasets = window.datasets;\\n'\n",
      "                     '\\n'\n",
      "                     '//Step 1. Select your dataset(s) from the button in the '\n",
      "                     'bottom left corner\\n'\n",
      "                     '\\n'\n",
      "                     '\\n'\n",
      "                     '\\n'\n",
      "                     '//Step 2. Query your dataset(s): '\n",
      "                     'https://developer.domo.com/docs/dev-studio-references/data-api\\n'\n",
      "                     \"var fields = ['state', 'revenue'];\\n\"\n",
      "                     \"var groupby = ['state'];\\n\"\n",
      "                     'var query = '\n",
      "                     '`/data/v1/${datasets[0]}?fields=${fields.join()}&groupby=${groupby.join()}`;\\n'\n",
      "                     'domo.get(query).then(handleResult);\\n'\n",
      "                     '\\n'\n",
      "                     '\\n'\n",
      "                     '\\n'\n",
      "                     '//Step 3. Do something with the data from the query '\n",
      "                     'result\\n'\n",
      "                     'function handleResult(data){\\n'\n",
      "                     '  console && console.log(data);\\n'\n",
      "                     '}'}}\n"
     ]
    }
   ],
   "source": [
    "domo_card = DomoCard.get_by_id(\n",
    "    card_id=577316875,\n",
    "    auth = auth,\n",
    "    return_raw = False\n",
    ")\n",
    "\n",
    "domo_source_code_document = domo_card.get_source_code()\n",
    "pprint(domo_source_code_document.content)"
   ]
  },
  {
   "cell_type": "code",
   "execution_count": 15,
   "metadata": {},
   "outputs": [],
   "source": [
    "#| hide\n",
    "\n",
    "nbdev.nbdev_export('./cards.ipynb')"
   ]
  }
 ],
 "metadata": {
  "kernelspec": {
   "display_name": "python3",
   "language": "python",
   "name": "python3"
  },
  "language_info": {
   "codemirror_mode": {
    "name": "ipython",
    "version": 3
   },
   "file_extension": ".py",
   "mimetype": "text/x-python",
   "name": "python",
   "nbconvert_exporter": "python",
   "pygments_lexer": "ipython3",
   "version": "3.10.9"
  }
 },
 "nbformat": 4,
 "nbformat_minor": 2
}
