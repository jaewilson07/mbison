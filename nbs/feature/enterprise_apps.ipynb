{
 "cells": [
  {
   "cell_type": "raw",
   "id": "c2a5026d",
   "metadata": {},
   "source": [
    "\n",
    "---\n",
    "title: EnterpriseApps\n",
    "output-file: feature/enterprise_apps.html\n",
    "---"
   ]
  },
  {
   "cell_type": "code",
   "execution_count": 1,
   "id": "04e1bcd0",
   "metadata": {},
   "outputs": [],
   "source": [
    "# | default_exp feature.enterprise_apps"
   ]
  },
  {
   "cell_type": "code",
   "execution_count": 2,
   "id": "bb167788",
   "metadata": {},
   "outputs": [],
   "source": [
    "# | exporti\n",
    "\n",
    "from dataclasses import dataclass, field\n",
    "import datetime as dt\n",
    "\n",
    "from typing import List\n",
    "import os\n",
    "\n",
    "import mbison.client.core as dmda\n",
    "import mbison.feature.users as dmdu\n",
    "import mbison.utils as dmut"
   ]
  },
  {
   "cell_type": "code",
   "execution_count": 3,
   "id": "aab054f1",
   "metadata": {},
   "outputs": [],
   "source": [
    "#| hide\n",
    "import nbdev\n"
   ]
  },
  {
   "cell_type": "code",
   "execution_count": 4,
   "id": "18c9ba66",
   "metadata": {},
   "outputs": [],
   "source": [
    "auth = dmda.DomoAuth(\n",
    "    domo_instance=os.environ[\"DOMO_INSTANCE\"],\n",
    "    access_token=os.environ[\"DOMO_ACCESS_TOKEN\"],\n",
    ")\n",
    "auth\n",
    "\n",
    "design_id = \"8c16c8ab-c068-4110-940b-f738d7146efc\""
   ]
  },
  {
   "cell_type": "markdown",
   "id": "d3513633",
   "metadata": {},
   "source": [
    "## Routes"
   ]
  },
  {
   "cell_type": "code",
   "execution_count": 5,
   "id": "47c2d895",
   "metadata": {},
   "outputs": [],
   "source": [
    "# | exports\n",
    "\n",
    "class App_API_Exception(dmda.API_Exception):\n",
    "    def __init__(self, res, message= None):\n",
    "        super().__init__(res = res,message = message)\n",
    "\n",
    "def get_app_by_id(auth: dmda.DomoAuth, design_id: str, debug_api: bool = False):\n",
    "\n",
    "    endpoint = f\"/api/apps/v1/designs/{design_id}\"\n",
    "\n",
    "    res = dmda.domo_api_request(\n",
    "        endpoint=endpoint,\n",
    "        request_type=\"get\",\n",
    "        auth=auth,\n",
    "        debug_api=debug_api,\n",
    "    )\n",
    "\n",
    "    if not res.is_success:\n",
    "        raise App_API_Exception(res = res, message =\"is app shared with authenticated user?\")\n",
    "\n",
    "    return res"
   ]
  },
  {
   "cell_type": "code",
   "execution_count": 6,
   "id": "4b232eda",
   "metadata": {},
   "outputs": [
    {
     "data": {
      "text/plain": [
       "{'id': '8c16c8ab-c068-4110-940b-f738d7146efc',\n",
       " 'name': 'nbdev_documentation',\n",
       " 'owner': '1893952720',\n",
       " 'createdBy': '1893952720',\n",
       " 'createdDate': '2022-12-02T17:26:03Z',\n",
       " 'updatedBy': '1893952720',\n",
       " 'updatedDate': '2022-12-02T17:39:38Z',\n",
       " 'description': None,\n",
       " 'versions': [],\n",
       " 'latestVersion': '1.0.0',\n",
       " 'instances': [],\n",
       " 'referencingCards': [],\n",
       " 'owners': [],\n",
       " 'creator': None,\n",
       " 'deletedDate': None,\n",
       " 'trusted': False,\n",
       " 'hasThumbnail': None}"
      ]
     },
     "execution_count": 6,
     "metadata": {},
     "output_type": "execute_result"
    }
   ],
   "source": [
    "domo_app = get_app_by_id(auth=auth, design_id=design_id, debug_api=False).response\n",
    "domo_app"
   ]
  },
  {
   "cell_type": "code",
   "execution_count": 7,
   "id": "37790881",
   "metadata": {},
   "outputs": [],
   "source": [
    "#| exports\n",
    "\n",
    "def get_app_versions(auth: dmda.DomoAuth, design_id, debug_api: bool = False):\n",
    "\n",
    "    endpoint = f\"/domoapps/designs/{design_id}/versions\"\n",
    "\n",
    "    return dmda.domo_api_request(\n",
    "        endpoint=endpoint, auth=auth, request_type=\"get\", debug_api=debug_api\n",
    "    )"
   ]
  },
  {
   "cell_type": "code",
   "execution_count": 8,
   "id": "8134bfbe",
   "metadata": {},
   "outputs": [
    {
     "data": {
      "text/plain": [
       "['1.0.0']"
      ]
     },
     "execution_count": 8,
     "metadata": {},
     "output_type": "execute_result"
    }
   ],
   "source": [
    "app_versions = get_app_versions(\n",
    "    auth=auth,\n",
    "    # design_id=domo_app[\"id\"]\n",
    "    design_id=design_id,\n",
    ").response\n",
    "\n",
    "app_versions"
   ]
  },
  {
   "cell_type": "code",
   "execution_count": 9,
   "id": "4bb721b8",
   "metadata": {},
   "outputs": [],
   "source": [
    "#| exports\n",
    "\n",
    "def get_app_source_by_version(\n",
    "    auth: dmda.DomoAuth,\n",
    "    download_path,\n",
    "    design_id,\n",
    "    version,\n",
    "    debug_api: bool = False,\n",
    "):\n",
    "\n",
    "    download_path = dmut.change_suffix(download_path, \".zip\")\n",
    "\n",
    "    endpoint = f\"/domoapps/designs/{design_id}/versions/{version}/assets\"\n",
    "\n",
    "    res = dmda.domo_api_stream_request(\n",
    "        endpoint=endpoint,\n",
    "        request_type=\"get\",\n",
    "        auth=auth,\n",
    "        debug_api=debug_api,\n",
    "        download_path=download_path,\n",
    "    )\n",
    "\n",
    "    if not res.is_success:\n",
    "        raise App_API_Exception(res = res, message = f\"unable to download assets for {design_id}\")\n",
    "\n",
    "    return res"
   ]
  },
  {
   "cell_type": "code",
   "execution_count": 10,
   "id": "82357a02",
   "metadata": {},
   "outputs": [
    {
     "name": "stdout",
     "output_type": "stream",
     "text": [
      "done writing stream\n"
     ]
    }
   ],
   "source": [
    "res = get_app_source_by_version(\n",
    "    auth=auth,\n",
    "    design_id=design_id,\n",
    "    version=app_versions[0],\n",
    "    debug_api=False,\n",
    "    download_path=\"../../TEST/route.zip\",\n",
    ")"
   ]
  },
  {
   "cell_type": "code",
   "execution_count": 27,
   "id": "2401f5b9",
   "metadata": {},
   "outputs": [],
   "source": [
    "# | exports\n",
    "def get_all_apps(auth: dmda.DomoAuth, debug_api: bool = False):\n",
    "\n",
    "    endpoint = \"/api/apps/v1/designs\"\n",
    "\n",
    "    params = {\n",
    "        \"checkAdminAuthority\" : True, \n",
    "        \"deleted\": False,\n",
    "        \"direction\" : \"desc\",\n",
    "        # \"parts\" : \"owners,creator,thumbnail\",\n",
    "        \"search\" : \"\",\n",
    "        \"withPermission\" : \"ADMIN\"}\n",
    "\n",
    "\n",
    "    res = dmda.domo_api_request(\n",
    "        endpoint=endpoint,\n",
    "        request_type=\"get\",\n",
    "        params=params,\n",
    "        auth=auth,\n",
    "        debug_api=debug_api,\n",
    "    )\n",
    "\n",
    "\n",
    "    return res"
   ]
  },
  {
   "cell_type": "code",
   "execution_count": 28,
   "id": "c173b572",
   "metadata": {},
   "outputs": [
    {
     "name": "stdout",
     "output_type": "stream",
     "text": [
      "75\n"
     ]
    },
    {
     "data": {
      "text/plain": [
       "[{'id': 'e09d6625-3680-4fac-bc71-1cd81607eb9a',\n",
       "  'name': 'YouTubeViewer Demographic',\n",
       "  'owner': None,\n",
       "  'createdBy': None,\n",
       "  'createdDate': '2016-07-19T22:10:36Z',\n",
       "  'updatedBy': None,\n",
       "  'updatedDate': '2016-09-20T21:41:39Z',\n",
       "  'description': None,\n",
       "  'versions': [],\n",
       "  'latestVersion': '1.0.7',\n",
       "  'instances': [],\n",
       "  'referencingCards': [],\n",
       "  'owners': [],\n",
       "  'creator': None,\n",
       "  'deletedDate': None,\n",
       "  'trusted': False,\n",
       "  'hasThumbnail': None}]"
      ]
     },
     "execution_count": 28,
     "metadata": {},
     "output_type": "execute_result"
    }
   ],
   "source": [
    "res = get_all_apps(auth = auth)\n",
    "all_apps = res.response\n",
    "\n",
    "print(len(all_apps))\n",
    "all_apps[0:1]"
   ]
  },
  {
   "cell_type": "code",
   "execution_count": 12,
   "id": "f9998699",
   "metadata": {},
   "outputs": [],
   "source": [
    "def get_app_permissions(design_id, auth : dmda.DomoAuth, debug_api: bool = False):\n",
    "    endpoint = f'/api/apps/v1/designs/{design_id}/permissions'\n",
    "\n",
    "    res = dmda.domo_api_request(\n",
    "        endpoint=endpoint,\n",
    "        request_type=\"get\",\n",
    "        auth=auth,\n",
    "        debug_api=debug_api,\n",
    "    )\n",
    "\n",
    "    if not res.is_success:\n",
    "        raise App_API_Exception(res = res)\n",
    "    \n",
    "    return res\n"
   ]
  },
  {
   "cell_type": "code",
   "execution_count": 29,
   "id": "a34db6a6",
   "metadata": {},
   "outputs": [],
   "source": [
    "design_id = 'aace1266-dc7f-42cb-8595-46069d91a703'\n",
    "\n",
    "# get_app_permissions(\n",
    "#     design_id= design_id,\n",
    "#     auth = auth,\n",
    "#     debug_api= True\n",
    "# )\n",
    "\n",
    "next((app for app in all_apps if app['id'] == design_id), None)"
   ]
  },
  {
   "cell_type": "code",
   "execution_count": null,
   "id": "760f08a4",
   "metadata": {},
   "outputs": [],
   "source": [
    "def share_app(auth : dm):\n",
    "url = 'https://domo-community.domo.com/api/apps/v1/designs/dde86741-c198-4b9e-8686-cc60f8dfd5be/permissions/ADMIN'\n"
   ]
  },
  {
   "cell_type": "markdown",
   "id": "f8e084a2",
   "metadata": {},
   "source": [
    "## Classes"
   ]
  },
  {
   "cell_type": "code",
   "execution_count": null,
   "id": "813a3d86",
   "metadata": {},
   "outputs": [],
   "source": [
    "# | exports\n",
    "\n",
    "\n",
    "@dataclass\n",
    "class DomoEnterpriseApp:\n",
    "    auth: dmda.DomoAuth = field(repr=False)\n",
    "    id: str\n",
    "    name: str\n",
    "    owner: dmdu.DomoUser\n",
    "    created_dt: dt.datetime\n",
    "    lastmodified_dt: dt.datetime\n",
    "    versions: List[str]\n",
    "    current_version: str\n",
    "    referencing_cards: List[dict]\n",
    "\n",
    "    @classmethod\n",
    "    def _from_json(cls, obj, auth: dmda.DomoAuth, debug_api: bool = False):\n",
    "\n",
    "        domo_user = None\n",
    "\n",
    "        try:\n",
    "            if obj.get(\"owner\"):\n",
    "                domo_user = dmdu.DomoUser.get_by_id(\n",
    "                    user_id=obj[\"owner\"], auth=auth, debug_api=debug_api\n",
    "                )\n",
    "\n",
    "        except dmdu.User_API_Exception as e:\n",
    "            print(e)\n",
    "\n",
    "        return cls(\n",
    "            auth=auth,\n",
    "            id=obj[\"id\"],\n",
    "            name=obj[\"name\"],\n",
    "            owner=domo_user,\n",
    "            created_dt=obj[\"createdDate\"],\n",
    "            lastmodified_dt=obj[\"updatedDate\"],\n",
    "            versions=obj[\"versions\"],\n",
    "            current_version=obj[\"latestVersion\"],\n",
    "            referencing_cards=obj[\"referencingCards\"],\n",
    "        )\n",
    "\n",
    "    @classmethod\n",
    "    def get_by_id(\n",
    "        cls,\n",
    "        design_id,\n",
    "        auth: dmda.DomoAuth,\n",
    "        debug_api: bool = False,\n",
    "        return_raw: bool = False,\n",
    "    ):\n",
    "        res = get_app_by_id(auth=auth, design_id=design_id, debug_api=debug_api)\n",
    "\n",
    "        if return_raw:\n",
    "            return res\n",
    "\n",
    "        return cls._from_json(obj=res.response, auth=auth, debug_api=debug_api)\n",
    "\n",
    "    def get_source_code(\n",
    "        self,\n",
    "        version: str = None,\n",
    "        debug_api: bool = False,\n",
    "        download_folder=\"./EXPORT/\",\n",
    "        file_name=None,\n",
    "    ):\n",
    "\n",
    "        file_name = file_name or f\"{self.id} - {version or self.current_version}.zip\"\n",
    "        file_name = dmut.change_suffix(file_name, \".zip\")\n",
    "\n",
    "        download_path = os.path.join(download_folder, file_name)\n",
    "        \n",
    "        return get_app_source_by_version(\n",
    "            auth=self.auth,\n",
    "            download_path=download_path,\n",
    "            design_id=self.id,\n",
    "            version=version or self.current_version,\n",
    "            debug_api=debug_api,\n",
    "        )\n",
    "\n",
    "\n",
    "    def get_versions(self, debug_api: bool = False, return_raw: bool = False):\n",
    "\n",
    "        res = get_app_versions(auth=self.auth, design_id=self.id, debug_api=debug_api)\n",
    "        if return_raw:\n",
    "            return res\n",
    "\n",
    "        self.versions = res.response\n",
    "        return self.versions"
   ]
  },
  {
   "cell_type": "code",
   "execution_count": null,
   "id": "0caec1c4",
   "metadata": {},
   "outputs": [],
   "source": [
    "# design_id = '897f9ffc-1ce2-4247-94d3-7afcb0192abb'\n",
    "domo_app = DomoEnterpriseApp.get_by_id(design_id = design_id, auth = auth)\n",
    "\n",
    "domo_app.get_versions()\n",
    "domo_app.current_version = domo_app.versions[-1]\n",
    "domo_app"
   ]
  },
  {
   "cell_type": "code",
   "execution_count": null,
   "id": "a0766782",
   "metadata": {},
   "outputs": [],
   "source": [
    "domo_app.get_source_code(download_folder='../../TEST')"
   ]
  },
  {
   "cell_type": "code",
   "execution_count": null,
   "id": "a8066834",
   "metadata": {},
   "outputs": [],
   "source": [
    "#| export\n",
    "\n",
    "@dataclass\n",
    "class DomoEnterpriseApps:\n",
    "    auth : dmda.DomoAuth = field(repr = False)\n",
    "    enterprise_apps : List[DomoEnterpriseApp] = None\n",
    "\n",
    "    def get_apps(self, debug_api : bool = False , return_raw: bool = False):\n",
    "        res = get_all_apps(auth = self.auth, debug_api= debug_api)\n",
    "\n",
    "        if return_raw:\n",
    "            return res\n",
    "        \n",
    "        self.enterprise_apps = [DomoEnterpriseApp._from_json(auth = self.auth, obj = obj) for obj in res.response]\n",
    "        return self.enterprise_apps"
   ]
  },
  {
   "cell_type": "code",
   "execution_count": null,
   "id": "661f7bc6",
   "metadata": {},
   "outputs": [],
   "source": [
    "DomoEnterpriseApps(auth = auth).get_apps(debug_api = False, return_raw = False)[0:5]"
   ]
  },
  {
   "cell_type": "code",
   "execution_count": null,
   "id": "137bb299-2030-4854-9b74-3619d780cf2c",
   "metadata": {},
   "outputs": [],
   "source": [
    "#| hide\n",
    "\n",
    "nbdev.nbdev_export('./enterprise_apps.ipynb')"
   ]
  }
 ],
 "metadata": {
  "kernelspec": {
   "display_name": "python3",
   "language": "python",
   "name": "python3"
  },
  "language_info": {
   "codemirror_mode": {
    "name": "ipython",
    "version": 3
   },
   "file_extension": ".py",
   "mimetype": "text/x-python",
   "name": "python",
   "nbconvert_exporter": "python",
   "pygments_lexer": "ipython3",
   "version": "3.10.9"
  }
 },
 "nbformat": 4,
 "nbformat_minor": 5
}
