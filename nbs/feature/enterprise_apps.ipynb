{
 "cells": [
  {
   "cell_type": "raw",
   "id": "c2a5026d",
   "metadata": {},
   "source": [
    "\n",
    "---\n",
    "title: EnterpriseApps\n",
    "output-file: feature/enterprise_apps.html\n",
    "---"
   ]
  },
  {
   "cell_type": "code",
   "execution_count": null,
   "id": "04e1bcd0",
   "metadata": {},
   "outputs": [],
   "source": [
    "# | default_exp feature.enterprise_apps"
   ]
  },
  {
   "cell_type": "code",
   "execution_count": null,
   "id": "bb167788",
   "metadata": {},
   "outputs": [],
   "source": [
    "# | exporti\n",
    "\n",
    "from dataclasses import dataclass, field\n",
    "import datetime as dt\n",
    "\n",
    "from typing import List, Any\n",
    "import os\n",
    "\n",
    "import mbison.client.core as dmda\n",
    "import mbison.feature.users as dmdu\n",
    "import mbison.utils as dmut\n",
    "\n",
    "from nbdev.showdoc import patch_to"
   ]
  },
  {
   "cell_type": "code",
   "execution_count": 3,
   "id": "aab054f1",
   "metadata": {},
   "outputs": [],
   "source": [
    "# | hide\n",
    "import nbdev"
   ]
  },
  {
   "cell_type": "code",
   "execution_count": 4,
   "id": "18c9ba66",
   "metadata": {},
   "outputs": [],
   "source": [
    "auth = dmda.DomoAuth(\n",
    "    domo_instance=os.environ[\"DOMO_INSTANCE\"],\n",
    "    access_token=os.environ[\"DOMO_ACCESS_TOKEN\"],\n",
    ")\n",
    "auth\n",
    "\n",
    "# design_id = \"8c16c8ab-c068-4110-940b-f738d7146efc\" # ddx\n",
    "design_id = '8c16c8ab-c068-4110-940b-f738d7146efc' # enterprise_app\n"
   ]
  },
  {
   "cell_type": "markdown",
   "id": "d3513633",
   "metadata": {},
   "source": [
    "## Routes\n"
   ]
  },
  {
   "cell_type": "code",
   "execution_count": 5,
   "id": "47c2d895",
   "metadata": {},
   "outputs": [],
   "source": [
    "# | exports\n",
    "\n",
    "\n",
    "class App_API_Exception(dmda.API_Exception):\n",
    "    def __init__(self, res, message=None):\n",
    "        super().__init__(res=res, message=message)\n",
    "\n",
    "\n",
    "def get_design_by_id(auth: dmda.DomoAuth, design_id: str, debug_api: bool = False):\n",
    "\n",
    "    endpoint = f\"/api/apps/v1/designs/{design_id}\"\n",
    "\n",
    "    res = dmda.domo_api_request(\n",
    "        endpoint=endpoint,\n",
    "        request_type=\"get\",\n",
    "        auth=auth,\n",
    "        debug_api=debug_api,\n",
    "    )\n",
    "\n",
    "    if not res.is_success:\n",
    "        raise App_API_Exception(\n",
    "            res=res, message=\"is app shared with authenticated user?\"\n",
    "        )\n",
    "\n",
    "    return res"
   ]
  },
  {
   "cell_type": "code",
   "execution_count": 6,
   "id": "4b232eda",
   "metadata": {},
   "outputs": [
    {
     "data": {
      "text/plain": [
       "{'id': '8c16c8ab-c068-4110-940b-f738d7146efc',\n",
       " 'name': 'nbdev_documentation',\n",
       " 'owner': '1893952720',\n",
       " 'createdBy': '1893952720',\n",
       " 'createdDate': '2022-12-02T17:26:03Z',\n",
       " 'updatedBy': '1893952720',\n",
       " 'updatedDate': '2022-12-02T17:39:38Z',\n",
       " 'description': None,\n",
       " 'versions': [],\n",
       " 'latestVersion': '1.0.0',\n",
       " 'instances': [],\n",
       " 'referencingCards': [],\n",
       " 'owners': [],\n",
       " 'creator': None,\n",
       " 'deletedDate': None,\n",
       " 'trusted': False,\n",
       " 'hasThumbnail': None}"
      ]
     },
     "execution_count": 6,
     "metadata": {},
     "output_type": "execute_result"
    }
   ],
   "source": [
    "get_design_by_id(auth=auth, design_id=design_id, debug_api=False).response"
   ]
  },
  {
   "cell_type": "code",
   "execution_count": 7,
   "id": "37790881",
   "metadata": {},
   "outputs": [],
   "source": [
    "# | exports\n",
    "\n",
    "\n",
    "def get_design_versions(auth: dmda.DomoAuth, design_id, debug_api: bool = False):\n",
    "\n",
    "    endpoint = f\"/domoapps/designs/{design_id}/versions\"\n",
    "\n",
    "    return dmda.domo_api_request(\n",
    "        endpoint=endpoint, auth=auth, request_type=\"get\", debug_api=debug_api\n",
    "    )"
   ]
  },
  {
   "cell_type": "code",
   "execution_count": 8,
   "id": "8134bfbe",
   "metadata": {},
   "outputs": [
    {
     "data": {
      "text/plain": [
       "['1.0.0']"
      ]
     },
     "execution_count": 8,
     "metadata": {},
     "output_type": "execute_result"
    }
   ],
   "source": [
    "design_versions = get_design_versions(\n",
    "    auth=auth,\n",
    "    design_id=design_id,\n",
    ").response\n",
    "\n",
    "design_versions"
   ]
  },
  {
   "cell_type": "code",
   "execution_count": 9,
   "id": "4bb721b8",
   "metadata": {},
   "outputs": [],
   "source": [
    "# | exports\n",
    "\n",
    "\n",
    "def get_design_source_code_by_version(\n",
    "    auth: dmda.DomoAuth,\n",
    "    download_path,\n",
    "    design_id,\n",
    "    version,\n",
    "    debug_api: bool = False,\n",
    "):\n",
    "\n",
    "    download_path = dmut.change_suffix(download_path, \".zip\")\n",
    "\n",
    "    endpoint = f\"/domoapps/designs/{design_id}/versions/{version}/assets\"\n",
    "\n",
    "    res = dmda.domo_api_stream_request(\n",
    "        endpoint=endpoint,\n",
    "        request_type=\"get\",\n",
    "        auth=auth,\n",
    "        debug_api=debug_api,\n",
    "        download_path=download_path,\n",
    "    )\n",
    "\n",
    "    if not res.is_success:\n",
    "        raise App_API_Exception(\n",
    "            res=res, message=f\"unable to download assets for {design_id}\"\n",
    "        )\n",
    "\n",
    "    return res"
   ]
  },
  {
   "cell_type": "code",
   "execution_count": 10,
   "id": "82357a02",
   "metadata": {},
   "outputs": [
    {
     "name": "stdout",
     "output_type": "stream",
     "text": [
      "done writing stream\n"
     ]
    }
   ],
   "source": [
    "res = get_design_source_code_by_version(\n",
    "    auth=auth,\n",
    "    design_id=design_id,\n",
    "    version=design_versions[0],\n",
    "    debug_api=False,\n",
    "    download_path=\"../../TEST/route.zip\",\n",
    ")"
   ]
  },
  {
   "cell_type": "code",
   "execution_count": 11,
   "id": "2401f5b9",
   "metadata": {},
   "outputs": [],
   "source": [
    "# | exports\n",
    "def get_all_app_designs(auth: dmda.DomoAuth, debug_api: bool = False):\n",
    "\n",
    "    endpoint = \"/api/apps/v1/designs\"\n",
    "\n",
    "    params = {\n",
    "        \"checkAdminAuthority\": True,\n",
    "        \"deleted\": False,\n",
    "        \"direction\": \"desc\",\n",
    "        # \"parts\" : \"owners,creator,thumbnail\",\n",
    "        \"search\": \"\",\n",
    "        \"withPermission\": \"ADMIN\",\n",
    "    }\n",
    "\n",
    "    res = dmda.domo_api_request(\n",
    "        endpoint=endpoint,\n",
    "        request_type=\"get\",\n",
    "        params=params,\n",
    "        auth=auth,\n",
    "        debug_api=debug_api,\n",
    "    )\n",
    "\n",
    "    return res"
   ]
  },
  {
   "cell_type": "code",
   "execution_count": 12,
   "id": "c173b572",
   "metadata": {},
   "outputs": [
    {
     "name": "stdout",
     "output_type": "stream",
     "text": [
      "75\n"
     ]
    },
    {
     "data": {
      "text/plain": [
       "[{'id': 'e09d6625-3680-4fac-bc71-1cd81607eb9a',\n",
       "  'name': 'YouTubeViewer Demographic',\n",
       "  'owner': None,\n",
       "  'createdBy': None,\n",
       "  'createdDate': '2016-07-19T22:10:36Z',\n",
       "  'updatedBy': None,\n",
       "  'updatedDate': '2016-09-20T21:41:39Z',\n",
       "  'description': None,\n",
       "  'versions': [],\n",
       "  'latestVersion': '1.0.7',\n",
       "  'instances': [],\n",
       "  'referencingCards': [],\n",
       "  'owners': [],\n",
       "  'creator': None,\n",
       "  'deletedDate': None,\n",
       "  'trusted': False,\n",
       "  'hasThumbnail': None}]"
      ]
     },
     "execution_count": 12,
     "metadata": {},
     "output_type": "execute_result"
    }
   ],
   "source": [
    "res = get_all_app_designs(auth=auth)\n",
    "all_apps = res.response\n",
    "\n",
    "print(len(all_apps))\n",
    "all_apps[0:1]"
   ]
  },
  {
   "cell_type": "code",
   "execution_count": 25,
   "id": "f9998699",
   "metadata": {},
   "outputs": [],
   "source": [
    "# def get_design_permissions(design_id, auth: dmda.DomoAuth, debug_api: bool = False):\n",
    "#     endpoint = f\"/api/apps/v1/designs/{design_id}/permissions/ADMIN\"\n",
    "#     endpoint = f\"/api/apps/v1/designs/dde86741-c198-4b9e-8686-cc60f8dfd5be/permissions/ADMIN\"\n",
    "\n",
    "#     res = dmda.domo_api_request(\n",
    "#         endpoint=endpoint,\n",
    "#         request_type=\"get\",\n",
    "#         auth=auth,\n",
    "#         debug_api=debug_api,\n",
    "#     )\n",
    "\n",
    "#     if not res.is_success:\n",
    "#         raise App_API_Exception(res=res)\n",
    "\n",
    "#     return res"
   ]
  },
  {
   "cell_type": "code",
   "execution_count": 26,
   "id": "a34db6a6",
   "metadata": {},
   "outputs": [
    {
     "name": "stdout",
     "output_type": "stream",
     "text": [
      "8c16c8ab-c068-4110-940b-f738d7146efc\n"
     ]
    },
    {
     "ename": "App_API_Exception",
     "evalue": " || 405 - Not allowed || domo-community",
     "output_type": "error",
     "traceback": [
      "\u001b[1;31m---------------------------------------------------------------------------\u001b[0m",
      "\u001b[1;31mApp_API_Exception\u001b[0m                         Traceback (most recent call last)",
      "Cell \u001b[1;32mIn[26], line 3\u001b[0m\n\u001b[0;32m      1\u001b[0m \u001b[38;5;28mprint\u001b[39m(design_id)\n\u001b[1;32m----> 3\u001b[0m \u001b[43mget_design_permissions\u001b[49m\u001b[43m(\u001b[49m\n\u001b[0;32m      4\u001b[0m \u001b[43m    \u001b[49m\u001b[43mdesign_id\u001b[49m\u001b[38;5;241;43m=\u001b[39;49m\u001b[43m \u001b[49m\u001b[43mdesign_id\u001b[49m\u001b[43m,\u001b[49m\n\u001b[0;32m      5\u001b[0m \u001b[43m    \u001b[49m\u001b[43mauth\u001b[49m\u001b[43m \u001b[49m\u001b[38;5;241;43m=\u001b[39;49m\u001b[43m \u001b[49m\u001b[43mauth\u001b[49m\u001b[43m,\u001b[49m\n\u001b[0;32m      6\u001b[0m \u001b[43m    \u001b[49m\u001b[43mdebug_api\u001b[49m\u001b[38;5;241;43m=\u001b[39;49m\u001b[43m \u001b[49m\u001b[38;5;28;43;01mFalse\u001b[39;49;00m\n\u001b[0;32m      7\u001b[0m \u001b[43m)\u001b[49m\u001b[38;5;241m.\u001b[39mresponse\n\u001b[0;32m      9\u001b[0m \u001b[38;5;66;03m# next((app for app in all_apps if app[\"designId\"] == design_id), None)\u001b[39;00m\n",
      "Cell \u001b[1;32mIn[25], line 13\u001b[0m, in \u001b[0;36mget_design_permissions\u001b[1;34m(design_id, auth, debug_api)\u001b[0m\n\u001b[0;32m      5\u001b[0m res \u001b[38;5;241m=\u001b[39m dmda\u001b[38;5;241m.\u001b[39mdomo_api_request(\n\u001b[0;32m      6\u001b[0m     endpoint\u001b[38;5;241m=\u001b[39mendpoint,\n\u001b[0;32m      7\u001b[0m     request_type\u001b[38;5;241m=\u001b[39m\u001b[38;5;124m\"\u001b[39m\u001b[38;5;124mget\u001b[39m\u001b[38;5;124m\"\u001b[39m,\n\u001b[0;32m      8\u001b[0m     auth\u001b[38;5;241m=\u001b[39mauth,\n\u001b[0;32m      9\u001b[0m     debug_api\u001b[38;5;241m=\u001b[39mdebug_api,\n\u001b[0;32m     10\u001b[0m )\n\u001b[0;32m     12\u001b[0m \u001b[38;5;28;01mif\u001b[39;00m \u001b[38;5;129;01mnot\u001b[39;00m res\u001b[38;5;241m.\u001b[39mis_success:\n\u001b[1;32m---> 13\u001b[0m     \u001b[38;5;28;01mraise\u001b[39;00m App_API_Exception(res\u001b[38;5;241m=\u001b[39mres)\n\u001b[0;32m     15\u001b[0m \u001b[38;5;28;01mreturn\u001b[39;00m res\n",
      "\u001b[1;31mApp_API_Exception\u001b[0m:  || 405 - Not allowed || domo-community"
     ]
    }
   ],
   "source": [
    "# print(design_id)\n",
    "\n",
    "# get_design_permissions(\n",
    "#     design_id= design_id,\n",
    "#     auth = auth,\n",
    "#     debug_api= False\n",
    "# ).response\n",
    "\n",
    "# # next((app for app in all_apps if app[\"designId\"] == design_id), None)"
   ]
  },
  {
   "cell_type": "code",
   "execution_count": null,
   "id": "760f08a4",
   "metadata": {},
   "outputs": [],
   "source": [
    "# def share_app(auth : dm):\n",
    "#     url = 'https://domo-community.domo.com/api/apps/v1/designs/dde86741-c198-4b9e-8686-cc60f8dfd5be/permissions/ADMIN'\n"
   ]
  },
  {
   "cell_type": "markdown",
   "id": "f8e084a2",
   "metadata": {},
   "source": [
    "## Classes\n"
   ]
  },
  {
   "cell_type": "code",
   "execution_count": null,
   "id": "813a3d86",
   "metadata": {},
   "outputs": [],
   "source": [
    "# | exports\n",
    "\n",
    "\n",
    "@dataclass\n",
    "class DomoEnterpriseApp:\n",
    "    auth: dmda.DomoAuth = field(repr=False)\n",
    "    id: str\n",
    "    name: str\n",
    "    owner: dmdu.DomoUser\n",
    "    created_dt: dt.datetime\n",
    "    lastmodified_dt: dt.datetime\n",
    "    versions: List[str]\n",
    "    current_version: str\n",
    "    referencing_cards: List[dict]\n",
    "\n",
    "    collection_ddx_source_code  : Any = None\n",
    "\n",
    "    @classmethod\n",
    "    def _from_json(cls, obj, auth: dmda.DomoAuth, debug_api: bool = False):\n",
    "\n",
    "        domo_user = None\n",
    "\n",
    "        try:\n",
    "            if obj.get(\"owner\"):\n",
    "                domo_user = dmdu.DomoUser.get_by_id(\n",
    "                    user_id=obj[\"owner\"], auth=auth, debug_api=debug_api\n",
    "                )\n",
    "\n",
    "        except dmdu.User_API_Exception as e:\n",
    "            print(e)\n",
    "\n",
    "        return cls(\n",
    "            auth=auth,\n",
    "            id=obj[\"id\"],\n",
    "            name=obj[\"name\"],\n",
    "            owner=domo_user,\n",
    "            created_dt=obj[\"createdDate\"],\n",
    "            lastmodified_dt=obj[\"updatedDate\"],\n",
    "            versions=obj[\"versions\"],\n",
    "            current_version=obj[\"latestVersion\"],\n",
    "            referencing_cards=obj[\"referencingCards\"],\n",
    "        )\n",
    "\n",
    "    @classmethod\n",
    "    def get_by_id(\n",
    "        cls,\n",
    "        design_id,\n",
    "        auth: dmda.DomoAuth,\n",
    "        debug_api: bool = False,\n",
    "        return_raw: bool = False,\n",
    "    ):\n",
    "        res = get_app_by_id(auth=auth, design_id=design_id, debug_api=debug_api)\n",
    "\n",
    "        if return_raw:\n",
    "            return res\n",
    "\n",
    "        return cls._from_json(obj=res.response, auth=auth, debug_api=debug_api)\n",
    "\n",
    "    def _get_source_code_enterprise_app(\n",
    "        self,\n",
    "        version: str = None,\n",
    "        debug_api: bool = False,\n",
    "        download_folder=\"./EXPORT/\",\n",
    "        file_name=None,\n",
    "    ):\n",
    "\n",
    "        file_name = file_name or f\"{self.id} - {version or self.current_version}.zip\"\n",
    "        file_name = dmut.change_suffix(file_name, \".zip\")\n",
    "\n",
    "        download_path = os.path.join(download_folder, file_name)\n",
    "\n",
    "        return get_app_source_by_version(\n",
    "            auth=self.auth,\n",
    "            download_path=download_path,\n",
    "            design_id=self.id,\n",
    "            version=version or self.current_version,\n",
    "            debug_api=debug_api,\n",
    "        )\n",
    "\n",
    "    def get_versions(self, debug_api: bool = False, return_raw: bool = False):\n",
    "\n",
    "        res = get_app_versions(auth=self.auth, design_id=self.id, debug_api=debug_api)\n",
    "        if return_raw:\n",
    "            return res\n",
    "\n",
    "        self.versions = res.response\n",
    "        return self.versions"
   ]
  },
  {
   "cell_type": "code",
   "execution_count": null,
   "id": "0caec1c4",
   "metadata": {},
   "outputs": [],
   "source": [
    "\n",
    "domo_app = DomoEnterpriseApp.get_by_id(design_id=design_id, auth=auth)\n",
    "\n",
    "domo_app.get_versions()\n",
    "domo_app.current_version = domo_app.versions[-1]\n",
    "domo_app"
   ]
  },
  {
   "cell_type": "code",
   "execution_count": null,
   "id": "8eeb227d",
   "metadata": {},
   "outputs": [],
   "source": [
    "@patch_to(DomoEnterpriseApp)\n",
    "def _get_source_code_collection_for_ddx(self, card_id, auth, debug_api: bool = False):\n",
    "    \"\"\"\n",
    "    identifies the collection that stores the source code for a ddx brick\n",
    "\n",
    "    note card metadata includes \"domoapps\" which identifies the datastore that feeds an app.\n",
    "    the one or many collections can be associated with a datastore / app\n",
    "    for ddx, the source code is stored in the collection 'ddx_app_client_code'\n",
    "    \"\"\"\n",
    "\n",
    "    import mbison.feature.cards as dmac\n",
    "    import mbison.feature.appdb as dmdb\n",
    "\n",
    "    card_meta = dmac.get_card_by_id(\n",
    "        card_id=card_id, auth=auth, debug_api=debug_api\n",
    "    ).response\n",
    "\n",
    "    datastore_id = card_meta[\"domoapp\"][\"id\"]\n",
    "\n",
    "    collections = dmdb.get_collections(\n",
    "        auth=auth, debug_api=debug_api, datastore_id=datastore_id\n",
    "    ).response\n",
    "\n",
    "    source_code_collection = next(\n",
    "        (\n",
    "            collection\n",
    "            for collection in collections\n",
    "            if collection[\"name\"] == \"ddx_app_client_code\"\n",
    "        ),\n",
    "        None,\n",
    "    )\n",
    "\n",
    "    if not source_code_collection:\n",
    "        raise Exception(f\"unable to to retrieve source code collection for {card_id}\")\n",
    "    \n",
    "    self.collection_ddx_source_code = dmdb.AppDbCollection.get_by_id(auth = auth, collection_id = source_code_collection['id'], debug_api = debug_api)\n",
    "\n",
    "    return self.collection_ddx_source_code"
   ]
  },
  {
   "cell_type": "code",
   "execution_count": null,
   "id": "a0766782",
   "metadata": {},
   "outputs": [],
   "source": [
    "domo_app.get_source_code(download_folder=\"../../TEST\")"
   ]
  },
  {
   "cell_type": "code",
   "execution_count": null,
   "id": "a8066834",
   "metadata": {},
   "outputs": [],
   "source": [
    "# | export\n",
    "\n",
    "\n",
    "@dataclass\n",
    "class DomoEnterpriseApps:\n",
    "    auth: dmda.DomoAuth = field(repr=False)\n",
    "    enterprise_apps: List[DomoEnterpriseApp] = None\n",
    "\n",
    "    def get_apps(self, debug_api: bool = False, return_raw: bool = False):\n",
    "        res = get_all_apps(auth=self.auth, debug_api=debug_api)\n",
    "\n",
    "        if return_raw:\n",
    "            return res\n",
    "\n",
    "        self.enterprise_apps = [\n",
    "            DomoEnterpriseApp._from_json(auth=self.auth, obj=obj)\n",
    "            for obj in res.response\n",
    "        ]\n",
    "        return self.enterprise_apps"
   ]
  },
  {
   "cell_type": "code",
   "execution_count": null,
   "id": "661f7bc6",
   "metadata": {},
   "outputs": [],
   "source": [
    "DomoEnterpriseApps(auth=auth).get_apps(debug_api=False, return_raw=False)[0:5]"
   ]
  },
  {
   "cell_type": "code",
   "execution_count": null,
   "id": "137bb299-2030-4854-9b74-3619d780cf2c",
   "metadata": {},
   "outputs": [],
   "source": [
    "# | hide\n",
    "\n",
    "nbdev.nbdev_export(\"./enterprise_apps.ipynb\")"
   ]
  }
 ],
 "metadata": {
  "kernelspec": {
   "display_name": "python3",
   "language": "python",
   "name": "python3"
  },
  "language_info": {
   "codemirror_mode": {
    "name": "ipython",
    "version": 3
   },
   "file_extension": ".py",
   "mimetype": "text/x-python",
   "name": "python",
   "nbconvert_exporter": "python",
   "pygments_lexer": "ipython3",
   "version": "3.10.9"
  }
 },
 "nbformat": 4,
 "nbformat_minor": 5
}
