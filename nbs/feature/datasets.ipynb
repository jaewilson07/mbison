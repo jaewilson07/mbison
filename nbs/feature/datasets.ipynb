{
 "cells": [
  {
   "cell_type": "raw",
   "metadata": {},
   "source": [
    "---\n",
    "title: Dataset\n",
    "output-file: feature/dataset.html\n",
    "---"
   ]
  },
  {
   "cell_type": "markdown",
   "metadata": {},
   "source": [
    "# Dataset\n"
   ]
  },
  {
   "cell_type": "code",
   "execution_count": null,
   "metadata": {},
   "outputs": [],
   "source": [
    "# | default_exp feature.dataset"
   ]
  },
  {
   "cell_type": "code",
   "execution_count": null,
   "metadata": {},
   "outputs": [],
   "source": [
    "# | importi\n",
    "from dataclasses import dataclass, field\n",
    "\n",
    "from typing import List\n",
    "\n",
    "import mbison.client.core as dmda"
   ]
  },
  {
   "cell_type": "code",
   "execution_count": null,
   "metadata": {},
   "outputs": [],
   "source": [
    "# | hide\n",
    "import nbdev\n",
    "\n",
    "import os"
   ]
  },
  {
   "cell_type": "markdown",
   "metadata": {},
   "source": [
    "## Routes\n"
   ]
  },
  {
   "cell_type": "code",
   "execution_count": null,
   "metadata": {},
   "outputs": [],
   "source": [
    "# | exports\n",
    "\n",
    "\n",
    "def get_datasets(\n",
    "    auth: dmda.DomoAuth, debug_api: bool = False, return_raw: bool = False\n",
    "):\n",
    "    endpoint = \"/api/data/ui/v3/datasources/search\"\n",
    "\n",
    "    payload = {\n",
    "        \"entities\": [\"DATASET\"],\n",
    "        \"filters\": [],\n",
    "        \"combineResults\": \"true\",\n",
    "        \"query\": \"*\",\n",
    "        \"count\": 1000,\n",
    "        \"offset\": 0,\n",
    "        \"sort\": {\n",
    "            \"isRelevance\": \"false\",\n",
    "            \"fieldSorts\": [{\"field\": \"create_date\", \"sortOrder\": \"DESC\"}],\n",
    "        },\n",
    "    }\n",
    "\n",
    "    res = dmda.domo_api_request(\n",
    "        auth=auth,\n",
    "        endpoint=endpoint,\n",
    "        request_type=\"POST\",\n",
    "        debug_api=debug_api,\n",
    "        body=payload,\n",
    "    )\n",
    "\n",
    "    if return_raw:\n",
    "        return res\n",
    "\n",
    "    res.response = res.response[\"dataSources\"]\n",
    "\n",
    "    return res"
   ]
  },
  {
   "cell_type": "code",
   "execution_count": null,
   "metadata": {},
   "outputs": [
    {
     "name": "stdout",
     "output_type": "stream",
     "text": [
      "*** Using Access Token Auth\n"
     ]
    },
    {
     "data": {
      "text/plain": [
       "[{'id': 'fedef9a2-eddb-44d1-b0c9-a0023224e8d1',\n",
       "  'displayType': 'webform',\n",
       "  'dataProviderType': 'webform',\n",
       "  'type': 'webform',\n",
       "  'name': 'Example Sales Data',\n",
       "  'owner': {'id': '1728973208',\n",
       "   'name': 'Peter Shull',\n",
       "   'type': 'USER',\n",
       "   'group': False},\n",
       "  'status': 'VALID',\n",
       "  'created': 1721655313000,\n",
       "  'lastUpdated': 1721655316205,\n",
       "  'dataLastUpdated': 0,\n",
       "  'rowCount': 19378,\n",
       "  'columnCount': 5,\n",
       "  'cardInfo': {'cardCount': 2, 'cardViewCount': 0},\n",
       "  'state': 'VALID',\n",
       "  'validConfiguration': True,\n",
       "  'validAccount': True,\n",
       "  'transportType': 'WEBFORM',\n",
       "  'adc': False,\n",
       "  'adcExternal': False,\n",
       "  'cloudId': 'domo',\n",
       "  'cloudName': 'Domo',\n",
       "  'hidden': False,\n",
       "  'tagsList': [],\n",
       "  'schema': {'name': 'fedef9a2-eddb-44d1-b0c9-a0023224e8d1',\n",
       "   'tables': [{'columns': [{'name': 'date_ymd',\n",
       "       'id': 'date_ymd',\n",
       "       'type': 'DATE',\n",
       "       'visible': True,\n",
       "       'order': 0},\n",
       "      {'name': 'revenue',\n",
       "       'id': 'revenue',\n",
       "       'type': 'DOUBLE',\n",
       "       'visible': True,\n",
       "       'order': 0},\n",
       "      {'name': 'sales_rep',\n",
       "       'id': 'sales_rep',\n",
       "       'type': 'STRING',\n",
       "       'visible': True,\n",
       "       'order': 0},\n",
       "      {'name': 'department',\n",
       "       'id': 'department',\n",
       "       'type': 'STRING',\n",
       "       'visible': True,\n",
       "       'order': 0},\n",
       "      {'name': 'state',\n",
       "       'id': 'state',\n",
       "       'type': 'STRING',\n",
       "       'visible': True,\n",
       "       'order': 0}]}]},\n",
       "  'alertCount': 0,\n",
       "  'dataFlowCount': 0,\n",
       "  'dataSourceCount': 0,\n",
       "  'impactCardCount': 2,\n",
       "  'impactAlertCount': 0,\n",
       "  'impactDataFlowCount': 0,\n",
       "  'impactDataSourceCount': 0}]"
      ]
     },
     "execution_count": null,
     "metadata": {},
     "output_type": "execute_result"
    }
   ],
   "source": [
    "auth = dmda.DomoAuth(\n",
    "    domo_instance=os.environ[\"DOMO_INSTANCE\"],\n",
    "    access_token=os.environ[\"DOMO_ACCESS_TOKEN\"],\n",
    ")\n",
    "\n",
    "\n",
    "res = get_datasets(auth=auth, debug_api=False)\n",
    "\n",
    "datasets = res.response\n",
    "datasets[0:1]"
   ]
  },
  {
   "cell_type": "code",
   "execution_count": null,
   "metadata": {},
   "outputs": [],
   "source": [
    "# |exports\n",
    "\n",
    "\n",
    "def get_pdp_policies(auth: dmda.DomoAuth, datasetId):\n",
    "    endpoint = f\"/api/query/v1/data-control/{datasetId}/filter-groups\"\n",
    "\n",
    "    params = {\"options\": \"load_associations,load_filters,include_open_policy\"}\n",
    "\n",
    "    response = dmda.domo_api_request(\n",
    "        endpoint=endpoint, auth=auth, request_type=\"GET\", params=params\n",
    "    )\n",
    "\n",
    "    return response\n",
    "\n",
    "\n",
    "def get_pdp_policy(auth: dmda.DomoAuth, datasetId, policy_id):\n",
    "    endpoint = f\"/api/query/v1/data-control/{datasetId}/filter-groups/{policy_id}\"\n",
    "\n",
    "    res = dmda.domo_api_request(\n",
    "        auth=auth,\n",
    "        method=\"GET\",\n",
    "        endpoint=endpoint,\n",
    "        params={\"options\": \"load_associations,load_filters,include_open_policy\"},\n",
    "    )\n",
    "\n",
    "    return res"
   ]
  },
  {
   "cell_type": "code",
   "execution_count": null,
   "metadata": {},
   "outputs": [
    {
     "data": {
      "text/plain": [
       "ResponseGetData(response=[{'name': 'All Rows', 'filterGroupId': 2380, 'dataSourceId': 'fedef9a2-eddb-44d1-b0c9-a0023224e8d1', 'type': 'open', 'dataSourcePermissions': False, 'order': 0}], is_success=True, status=200)"
      ]
     },
     "execution_count": null,
     "metadata": {},
     "output_type": "execute_result"
    }
   ],
   "source": [
    "get_pdp_policies(auth=auth, datasetId=datasets[0][\"id\"])"
   ]
  },
  {
   "cell_type": "code",
   "execution_count": null,
   "metadata": {},
   "outputs": [],
   "source": [
    "# | exports\n",
    "\n",
    "\n",
    "def create_pdp_policy(auth: dmda.DomoAuth, datasetId: str, pdp_object: dict):\n",
    "\n",
    "    endpoint = f\"/api/query/v1/data-control/{datasetId}/filter-groups\"\n",
    "\n",
    "    res = dmda.domo_api_request(\n",
    "        auth=auth, request_type=\"POST\", endpoint=endpoint, body=pdp_object\n",
    "    )\n",
    "\n",
    "    return res\n",
    "\n",
    "\n",
    "def update_pdp_policy(auth: dmda.DomoAuth, datasetId, policyId, pdp_object: dict):\n",
    "    endpoint = f\"/api/query/v1/data-control/{datasetId}/filter-groups/{policyId}\"\n",
    "\n",
    "    res = dmda.domo_api_request(\n",
    "        auth=auth,\n",
    "        request_type=\"PUT\",\n",
    "        endpoint=endpoint,\n",
    "        body=pdp_object,\n",
    "    )\n",
    "\n",
    "    return res\n",
    "\n",
    "\n",
    "def delete_pdp_policy(auth: dmda.DomoAuth, datasetId, policyId):\n",
    "    endpoint = f\"/api/query/v1/data-control/{datasetId}/filter-groups/{policyId}\"\n",
    "\n",
    "    res = dmda.domo_api_request(auth=auth, endpoint=endpoint, request_type=\"DELETE\")\n",
    "\n",
    "    return res"
   ]
  },
  {
   "cell_type": "markdown",
   "metadata": {},
   "source": [
    "## Classes"
   ]
  },
  {
   "cell_type": "code",
   "execution_count": null,
   "metadata": {},
   "outputs": [],
   "source": [
    "# | exports\n",
    "\n",
    "\n",
    "@dataclass\n",
    "class DomoDatasetPolicy:\n",
    "    name: str\n",
    "\n",
    "\n",
    "@dataclass\n",
    "class DomoDataset:\n",
    "    id: str\n",
    "    name: str\n",
    "\n",
    "    auth: dmda.DomoAuth\n",
    "\n",
    "    pdp_policies: List[dict] = None\n",
    "    domo_policies: List[DomoDatasetPolicy] = None\n",
    "\n",
    "    @classmethod\n",
    "    def _from_json(cls, auth: dmda.DomoAuth, obj: dict):\n",
    "        return cls(auth=auth, id=obj[\"id\"], name=obj[\"name\"])\n",
    "\n",
    "    def get_pdp_policies(self, return_raw: bool = False):\n",
    "\n",
    "        res = get_pdp_policies(auth=self.auth, datasetId=self.id)\n",
    "\n",
    "        if return_raw:\n",
    "            return res\n",
    "\n",
    "        self.pdp_policies = res.response\n",
    "        self.domo_policies = [\n",
    "            DomoDatasetPolicy(name=obj[\"name\"]) for obj in self.pdp_policies\n",
    "        ]\n",
    "\n",
    "        return self.domo_policies"
   ]
  },
  {
   "cell_type": "code",
   "execution_count": null,
   "metadata": {},
   "outputs": [],
   "source": [
    "# | exports\n",
    "\n",
    "\n",
    "@dataclass\n",
    "class DomoDatasets:\n",
    "    auth: dmda.DomoAuth\n",
    "    raw_datasets: List[dict] = field(default_factory=lambda: [])\n",
    "\n",
    "    domo_datasets: List[DomoDataset] = field(default_factory=lambda: [])\n",
    "\n",
    "    def get_datasets(self, debug_api: bool = False, return_raw: bool = False):\n",
    "\n",
    "        res = get_datasets(self.auth, debug_api=debug_api)\n",
    "\n",
    "        if return_raw:\n",
    "            return res\n",
    "\n",
    "        self.raw_datasets = res.response\n",
    "\n",
    "        self.domo_datasets = [\n",
    "            DomoDataset._from_json(obj=obj, auth=self.auth) for obj in self.raw_datasets\n",
    "        ]\n",
    "\n",
    "        return self.domo_datasets\n",
    "\n",
    "    def print_datasets(self):\n",
    "        print(self.domo_datasets)"
   ]
  },
  {
   "cell_type": "code",
   "execution_count": null,
   "metadata": {},
   "outputs": [
    {
     "data": {
      "text/plain": [
       "[DomoDataset(id='fedef9a2-eddb-44d1-b0c9-a0023224e8d1', name='Example Sales Data', auth=DomoAuth(domo_instance='domo-community', username=None), pdp_policies=None, domo_policies=None),\n",
       " DomoDataset(id='37fdfa92-ba60-4ab0-8f95-a03c6af543f0', name='Output2', auth=DomoAuth(domo_instance='domo-community', username=None), pdp_policies=None, domo_policies=None),\n",
       " DomoDataset(id='4823950f-d754-474b-bddc-a6e7fec6df34', name='Output1', auth=DomoAuth(domo_instance='domo-community', username=None), pdp_policies=None, domo_policies=None),\n",
       " DomoDataset(id='f17bae29-3caa-4408-afbd-e2130b7281a5', name='HarryPotter', auth=DomoAuth(domo_instance='domo-community', username=None), pdp_policies=None, domo_policies=None),\n",
       " DomoDataset(id='7e8c4e24-6169-4e3b-ae51-65e4305b2e80', name='form_data_a2693a83-a265-4a27-8a4f-a0d4778273ba_APP_DB', auth=DomoAuth(domo_instance='domo-community', username=None), pdp_policies=None, domo_policies=None)]"
      ]
     },
     "execution_count": null,
     "metadata": {},
     "output_type": "execute_result"
    }
   ],
   "source": [
    "domo_datasets = DomoDatasets(auth=auth)\n",
    "domo_datasets.get_datasets()[0:5]"
   ]
  },
  {
   "cell_type": "code",
   "execution_count": null,
   "metadata": {},
   "outputs": [
    {
     "data": {
      "text/plain": [
       "[DomoDatasetPolicy(name='All Rows')]"
      ]
     },
     "execution_count": null,
     "metadata": {},
     "output_type": "execute_result"
    }
   ],
   "source": [
    "domo_datasets.domo_datasets[0].get_pdp_policies()"
   ]
  },
  {
   "cell_type": "code",
   "execution_count": null,
   "metadata": {},
   "outputs": [],
   "source": [
    "# | hide\n",
    "nbdev.nbdev_export(\"datasets.ipynb\")"
   ]
  }
 ],
 "metadata": {
  "kernelspec": {
   "display_name": "python3",
   "language": "python",
   "name": "python3"
  },
  "language_info": {
   "name": "python",
   "version": "3.10.9"
  }
 },
 "nbformat": 4,
 "nbformat_minor": 4
}
