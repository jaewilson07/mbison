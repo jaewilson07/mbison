{
 "cells": [
  {
   "cell_type": "markdown",
   "metadata": {},
   "source": [
    "# Feature - Dataset\n",
    "\n",
    "> Fill in a module description here"
   ]
  },
  {
   "cell_type": "code",
   "execution_count": null,
   "metadata": {},
   "outputs": [],
   "source": [
    "#| default_exp feature.dataset"
   ]
  },
  {
   "cell_type": "code",
   "execution_count": null,
   "metadata": {},
   "outputs": [],
   "source": [
    "#| importi\n",
    "from dataclasses import dataclass, field\n",
    "\n",
    "from typing import  List\n",
    "\n",
    "import mbison.client.core as dmda"
   ]
  },
  {
   "cell_type": "code",
   "execution_count": null,
   "metadata": {},
   "outputs": [],
   "source": [
    "#| hide\n",
    "import nbdev; \n",
    "\n",
    "import os"
   ]
  },
  {
   "cell_type": "markdown",
   "metadata": {},
   "source": [
    "## Datasets"
   ]
  },
  {
   "cell_type": "code",
   "execution_count": null,
   "metadata": {},
   "outputs": [],
   "source": [
    "#| export \n",
    "def get_datasets(auth : dmda.DomoAuth, debug_api : bool = False, return_raw: bool = False):\n",
    "    endpoint = '/api/data/ui/v3/datasources/search'\n",
    "\n",
    "    payload = {\n",
    "            \"entities\": [\"DATASET\"],\n",
    "            \"filters\": [],\n",
    "            \"combineResults\":\"true\",\n",
    "            \"query\":\"*\",\n",
    "            \"count\":1000,\n",
    "            \"offset\":0,\n",
    "            \"sort\":{\"isRelevance\":\"false\",\n",
    "                    \"fieldSorts\":[{\"field\":\"create_date\",\n",
    "                                    \"sortOrder\":\"DESC\"}]}}\n",
    "    \n",
    "    res = dmda.domo_api_request(\n",
    "        auth = auth,\n",
    "        endpoint= endpoint,\n",
    "        request_type='POST',\n",
    "        debug_api= debug_api,\n",
    "        body = payload\n",
    "        \n",
    "    )\n",
    "\n",
    "    if return_raw:\n",
    "        return res\n",
    "    \n",
    "    res.response = res.response['dataSources']\n",
    "    \n",
    "    return res"
   ]
  },
  {
   "cell_type": "code",
   "execution_count": null,
   "metadata": {},
   "outputs": [
    {
     "name": "stdout",
     "output_type": "stream",
     "text": [
      "*** Using Access Token Auth\n"
     ]
    },
    {
     "data": {
      "text/plain": [
       "[{'id': '398677b7-ca3a-4bc5-9f4d-3a579278b71d',\n",
       "  'displayType': 'webform',\n",
       "  'dataProviderType': 'webform',\n",
       "  'type': 'webform',\n",
       "  'name': 'Example Sales Data',\n",
       "  'owner': {'id': '1351541814',\n",
       "   'name': 'jae wilson',\n",
       "   'type': 'USER',\n",
       "   'group': False},\n",
       "  'status': 'VALID',\n",
       "  'created': 1714506702000,\n",
       "  'lastUpdated': 1714506705068,\n",
       "  'dataLastUpdated': 0,\n",
       "  'rowCount': 19378,\n",
       "  'columnCount': 5,\n",
       "  'cardInfo': {'cardCount': 1, 'cardViewCount': 0},\n",
       "  'state': 'VALID',\n",
       "  'validConfiguration': True,\n",
       "  'validAccount': True,\n",
       "  'transportType': 'WEBFORM',\n",
       "  'adc': False,\n",
       "  'adcExternal': False,\n",
       "  'cloudId': 'domo',\n",
       "  'cloudName': 'Domo',\n",
       "  'hidden': False,\n",
       "  'tagsList': [],\n",
       "  'schema': {'name': '398677b7-ca3a-4bc5-9f4d-3a579278b71d',\n",
       "   'tables': [{'columns': [{'name': 'date_ymd',\n",
       "       'id': 'date_ymd',\n",
       "       'type': 'DATE',\n",
       "       'visible': True,\n",
       "       'order': 0},\n",
       "      {'name': 'revenue',\n",
       "       'id': 'revenue',\n",
       "       'type': 'DOUBLE',\n",
       "       'visible': True,\n",
       "       'order': 0},\n",
       "      {'name': 'sales_rep',\n",
       "       'id': 'sales_rep',\n",
       "       'type': 'STRING',\n",
       "       'visible': True,\n",
       "       'order': 0},\n",
       "      {'name': 'department',\n",
       "       'id': 'department',\n",
       "       'type': 'STRING',\n",
       "       'visible': True,\n",
       "       'order': 0},\n",
       "      {'name': 'state',\n",
       "       'id': 'state',\n",
       "       'type': 'STRING',\n",
       "       'visible': True,\n",
       "       'order': 0}]}]},\n",
       "  'alertCount': 0,\n",
       "  'dataFlowCount': 0,\n",
       "  'dataSourceCount': 0,\n",
       "  'impactCardCount': 1,\n",
       "  'impactAlertCount': 0,\n",
       "  'impactDataFlowCount': 0,\n",
       "  'impactDataSourceCount': 0}]"
      ]
     },
     "execution_count": null,
     "metadata": {},
     "output_type": "execute_result"
    }
   ],
   "source": [
    "auth = dmda.DomoAuth(domo_instance= os.environ['DOMO_INSTANCE'],\n",
    "                access_token = os.environ['DOMO_ACCESS_TOKEN']\n",
    "                )\n",
    "\n",
    "\n",
    "res = get_datasets(auth = auth, debug_api= False)\n",
    "\n",
    "datasets = res.response\n",
    "datasets[0:1]"
   ]
  },
  {
   "cell_type": "markdown",
   "metadata": {},
   "source": [
    "### PDP"
   ]
  },
  {
   "cell_type": "code",
   "execution_count": null,
   "metadata": {},
   "outputs": [],
   "source": [
    "#|export \n",
    "\n",
    "def get_pdp_policies(auth : dmda.DomoAuth, datasetId):\n",
    "        endpoint = f'/api/query/v1/data-control/{datasetId}/filter-groups'\n",
    "        \n",
    "        params = {\"options\": \"load_associations,load_filters,include_open_policy\"}\n",
    "\n",
    "        response = dmda.domo_api_request(endpoint=endpoint,\n",
    "                                    auth = auth, request_type= 'GET',\n",
    "                                    params=params\n",
    "                                    ) \n",
    "        \n",
    "        return response\n",
    "\n",
    "def get_pdp_policy(auth: dmda.DomoAuth, datasetId, policy_id):\n",
    "        endpoint = f'/api/query/v1/data-control/{datasetId}/filter-groups/{policy_id}'\n",
    "\n",
    "        res = dmda.domo_api_request(\n",
    "                auth = auth,\n",
    "                method = 'GET',\n",
    "                endpoint = endpoint,\n",
    "                params = {'options':'load_associations,load_filters,include_open_policy'})\n",
    "        \n",
    "        return res"
   ]
  },
  {
   "cell_type": "code",
   "execution_count": null,
   "metadata": {},
   "outputs": [
    {
     "data": {
      "text/plain": [
       "RsponseGetData(response=[{'name': 'All Rows', 'filterGroupId': 7, 'dataSourceId': '398677b7-ca3a-4bc5-9f4d-3a579278b71d', 'type': 'open', 'dataSourcePermissions': False, 'order': 0}], is_success=True, status=200)"
      ]
     },
     "execution_count": null,
     "metadata": {},
     "output_type": "execute_result"
    }
   ],
   "source": [
    "get_pdp_policies(auth = auth, datasetId=datasets[0]['id'])"
   ]
  },
  {
   "cell_type": "code",
   "execution_count": null,
   "metadata": {},
   "outputs": [],
   "source": [
    "# | export\n",
    "\n",
    "\n",
    "def create_pdp_policy(auth: dmda.DomoAuth, datasetId: str, pdp_object: dict):\n",
    "\n",
    "    endpoint = f\"/api/query/v1/data-control/{datasetId}/filter-groups\"\n",
    "\n",
    "    res = dmda.domo_api_request(\n",
    "        auth=auth, request_type=\"POST\", endpoint=endpoint, body=pdp_object\n",
    "    )\n",
    "\n",
    "    return res\n",
    "\n",
    "\n",
    "def update_pdp_policy(auth: dmda.DomoAuth, datasetId, policyId, pdp_object: dict):\n",
    "    endpoint = f\"/api/query/v1/data-control/{datasetId}/filter-groups/{policyId}\"\n",
    "\n",
    "    res = dmda.domo_api_request(\n",
    "        auth=auth,\n",
    "        request_type=\"PUT\",\n",
    "        endpoint=endpoint,\n",
    "        body=pdp_object,\n",
    "    )\n",
    "\n",
    "    return res\n",
    "\n",
    "\n",
    "def delete_pdp_policy(auth: dmda.DomoAuth, datasetId, policyId):\n",
    "    endpoint = f\"/api/query/v1/data-control/{datasetId}/filter-groups/{policyId}\"\n",
    "\n",
    "    res = dmda.domo_api_request(auth=auth, endpoint=endpoint, request_type=\"DELETE\")\n",
    "\n",
    "    return res"
   ]
  },
  {
   "cell_type": "markdown",
   "metadata": {},
   "source": [
    "### DomoDataset"
   ]
  },
  {
   "cell_type": "code",
   "execution_count": null,
   "metadata": {},
   "outputs": [],
   "source": [
    "# | export\n",
    "\n",
    "\n",
    "@dataclass\n",
    "class DomoDatasetPolicy:\n",
    "    name: str\n",
    "\n",
    "\n",
    "@dataclass\n",
    "class DomoDataset:\n",
    "    id: str\n",
    "    name: str\n",
    "\n",
    "    auth: dmda.DomoAuth\n",
    "\n",
    "    pdp_policies: List[dict] = None\n",
    "    domo_policies: List[DomoDatasetPolicy] = None\n",
    "\n",
    "    @classmethod\n",
    "    def _from_json(cls, auth: dmda.DomoAuth, obj: dict):\n",
    "        return cls(auth=auth, id=obj[\"id\"], name=obj[\"name\"])\n",
    "\n",
    "    def get_pdp_policies(self, return_raw: bool = False):\n",
    "\n",
    "        res = get_pdp_policies(auth=self.auth, datasetId=self.id)\n",
    "\n",
    "        if return_raw:\n",
    "            return res\n",
    "\n",
    "        self.pdp_policies = res.response\n",
    "        self.domo_policies = [\n",
    "            DomoDatasetPolicy(name=obj[\"name\"]) for obj in self.pdp_policies\n",
    "        ]\n",
    "\n",
    "        return self.domo_policies"
   ]
  },
  {
   "cell_type": "markdown",
   "metadata": {},
   "source": [
    "### DomoDatasets"
   ]
  },
  {
   "cell_type": "code",
   "execution_count": null,
   "metadata": {},
   "outputs": [],
   "source": [
    "#| export \n",
    "\n",
    "@dataclass\n",
    "class DomoDatasets:\n",
    "    auth: dmda.DomoAuth\n",
    "    raw_datasets: List[dict] = field(default_factory=lambda: [])\n",
    "\n",
    "    domo_datasets: List[DomoDataset] = field(default_factory=lambda: [])\n",
    "\n",
    "    def get_datasets(self, debug_api : bool = False, return_raw: bool = False):\n",
    "\n",
    "        res = get_datasets(self.auth, debug_api = debug_api)\n",
    "\n",
    "        if return_raw: \n",
    "            return res\n",
    "        \n",
    "        self.raw_datasets = res.response\n",
    "\n",
    "        self.domo_datasets = [\n",
    "            DomoDataset._from_json(obj=obj, \n",
    "                                   auth=self.auth) for obj in self.raw_datasets\n",
    "        ]\n",
    "\n",
    "        return self.domo_datasets\n",
    "\n",
    "    def print_datasets(self):\n",
    "        print(self.domo_datasets)"
   ]
  },
  {
   "cell_type": "code",
   "execution_count": null,
   "metadata": {},
   "outputs": [
    {
     "data": {
      "text/plain": [
       "[DomoDataset(id='398677b7-ca3a-4bc5-9f4d-3a579278b71d', name='Example Sales Data', auth=DomoAuth(domo_instance='datacrew-space', username=None), pdp_policies=None, domo_policies=None),\n",
       " DomoDataset(id='38b145a6-297a-44b7-9507-94f1f3cb8e67', name='Example Sales', auth=DomoAuth(domo_instance='datacrew-space', username=None), pdp_policies=None, domo_policies=None),\n",
       " DomoDataset(id='bdc28de2-58f1-4291-9436-bbc5ae793861', name='DST_TST_domo_api', auth=DomoAuth(domo_instance='datacrew-space', username=None), pdp_policies=None, domo_policies=None),\n",
       " DomoDataset(id='28ea5493-e20c-47f6-9235-06d9624d31e2', name='Pricing product details', auth=DomoAuth(domo_instance='datacrew-space', username=None), pdp_policies=None, domo_policies=None),\n",
       " DomoDataset(id='a0e82f76-3006-4025-b7f7-cdd0c2291f63', name='BF Sales by Hour', auth=DomoAuth(domo_instance='datacrew-space', username=None), pdp_policies=None, domo_policies=None),\n",
       " DomoDataset(id='d32743ca-3c47-4d68-aaea-ff6f374727ac', name='Transaction product sales', auth=DomoAuth(domo_instance='datacrew-space', username=None), pdp_policies=None, domo_policies=None)]"
      ]
     },
     "execution_count": null,
     "metadata": {},
     "output_type": "execute_result"
    }
   ],
   "source": [
    "domo_datasets = DomoDatasets(auth=auth)\n",
    "domo_datasets.get_datasets()"
   ]
  },
  {
   "cell_type": "code",
   "execution_count": null,
   "metadata": {},
   "outputs": [
    {
     "data": {
      "text/plain": [
       "[DomoDatasetPolicy(name='All Rows')]"
      ]
     },
     "execution_count": null,
     "metadata": {},
     "output_type": "execute_result"
    }
   ],
   "source": [
    "domo_datasets.domo_datasets[0].get_pdp_policies()"
   ]
  },
  {
   "cell_type": "code",
   "execution_count": null,
   "metadata": {},
   "outputs": [],
   "source": [
    "#| hide\n",
    "nbdev.nbdev_export('datasets.ipynb')"
   ]
  }
 ],
 "metadata": {
  "kernelspec": {
   "display_name": "python3",
   "language": "python",
   "name": "python3"
  }
 },
 "nbformat": 4,
 "nbformat_minor": 4
}
