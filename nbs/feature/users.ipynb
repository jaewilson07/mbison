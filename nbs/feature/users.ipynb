{
 "cells": [
  {
   "cell_type": "code",
   "execution_count": 20,
   "metadata": {},
   "outputs": [],
   "source": [
    "#| default_exp feature.users"
   ]
  },
  {
   "cell_type": "code",
   "execution_count": 21,
   "metadata": {},
   "outputs": [],
   "source": [
    "#| exporti\n",
    "\n",
    "from dataclasses import dataclass , field\n",
    "\n",
    "import mbison.client.core as dmda"
   ]
  },
  {
   "cell_type": "code",
   "execution_count": 22,
   "metadata": {},
   "outputs": [],
   "source": [
    "#| hide\n",
    "import os"
   ]
  },
  {
   "cell_type": "code",
   "execution_count": 23,
   "metadata": {},
   "outputs": [
    {
     "name": "stdout",
     "output_type": "stream",
     "text": [
      "*** Using Access Token Auth\n"
     ]
    },
    {
     "data": {
      "text/plain": [
       "DomoAuth(domo_instance='datacrew-space', username=None)"
      ]
     },
     "execution_count": 23,
     "metadata": {},
     "output_type": "execute_result"
    }
   ],
   "source": [
    "auth = dmda.DomoAuth(\n",
    "    domo_instance=os.environ[\"DOMO_INSTANCE\"],\n",
    "    access_token=os.environ[\"DOMO_ACCESS_TOKEN\"],\n",
    ")\n",
    "# auth.who_am_i()\n",
    "auth"
   ]
  },
  {
   "cell_type": "code",
   "execution_count": 24,
   "metadata": {},
   "outputs": [],
   "source": [
    "#| export\n",
    "class User_API_Exception(dmda.API_Exception):\n",
    "    def __init__(self, res, message= None):\n",
    "\n",
    "        super().__init__(res = res,message = message)"
   ]
  },
  {
   "cell_type": "code",
   "execution_count": 25,
   "metadata": {},
   "outputs": [],
   "source": [
    "#| export\n",
    "\n",
    "def get_user_by_id(user_id, auth : dmda.DomoAuth , debug_api: bool = False):\n",
    "\n",
    "    endpoint = f\"/api/content/v3/users/{user_id}\"\n",
    "\n",
    "    params = {\"includeDetails\": True}\n",
    "\n",
    "    res = dmda.domo_api_request(\n",
    "        auth= auth,\n",
    "        endpoint=endpoint,\n",
    "        request_type= \"GET\",\n",
    "        params = params,\n",
    "        debug_api= debug_api,\n",
    "    )\n",
    "\n",
    "\n",
    "    if not res.is_success and res.status == 404 :\n",
    "        raise User_API_Exception(res, message = f\"unable to find user - {user_id}\")\n",
    "\n",
    "    return res"
   ]
  },
  {
   "cell_type": "code",
   "execution_count": 26,
   "metadata": {},
   "outputs": [
    {
     "data": {
      "text/plain": [
       "ResponseGetData(response={'id': 1351541814, 'invitorUserId': 27, 'displayName': 'jae wilson', 'role': 'Admin', 'roleId': 1, 'detail': {'title': 'Staff Analytics Engineer', 'email': 'jae@datacrew.space', 'phoneNumber': '8087651506', 'pending': False, 'active': True, 'created': 1713890872, 'modified': 1713890922, 'department': 'IT/Engineering'}}, is_success=True, status=200, auth=DomoAuth(domo_instance='datacrew-space', username=None))"
      ]
     },
     "execution_count": 26,
     "metadata": {},
     "output_type": "execute_result"
    }
   ],
   "source": [
    "get_user_by_id(user_id = 1351541814, auth =auth, debug_api = False)\n"
   ]
  },
  {
   "cell_type": "code",
   "execution_count": 27,
   "metadata": {},
   "outputs": [],
   "source": [
    "#| export\n",
    "\n",
    "@dataclass\n",
    "class DomoUser:\n",
    "    auth :dmda.DomoAuth = field(repr = False)\n",
    "    id: str\n",
    "    display_name: str\n",
    "    role_id: int\n",
    "    email : str\n",
    "\n",
    "    @classmethod\n",
    "    def from_json(cls, obj, auth : dmda.DomoAuth):\n",
    "        return cls(\n",
    "            auth = auth, \n",
    "            id = obj['id'],\n",
    "            display_name = obj['displayName'],\n",
    "            role_id = obj['roleId'],\n",
    "            email = obj['detail']['email']\n",
    "        )\n",
    "    \n",
    "    @classmethod\n",
    "    def get_by_id(cls, user_id, auth, debug_api : bool = False, return_raw :bool = False):\n",
    "        res = get_user_by_id(user_id = user_id, auth =auth, debug_api = debug_api)\n",
    "\n",
    "        if return_raw:\n",
    "            return res\n",
    "        \n",
    "        return cls.from_json(obj = res.response , auth = auth)"
   ]
  },
  {
   "cell_type": "code",
   "execution_count": 28,
   "metadata": {},
   "outputs": [
    {
     "data": {
      "text/plain": [
       "DomoUser(id=1351541814, display_name='jae wilson', role_id=1, email='jae@datacrew.space')"
      ]
     },
     "execution_count": 28,
     "metadata": {},
     "output_type": "execute_result"
    }
   ],
   "source": [
    "DomoUser.get_by_id(user_id= 1351541814, auth = auth)"
   ]
  },
  {
   "cell_type": "code",
   "execution_count": 29,
   "metadata": {},
   "outputs": [],
   "source": [
    "#| hide\n",
    "\n",
    "import nbdev\n",
    "nbdev.nbdev_export()"
   ]
  }
 ],
 "metadata": {
  "kernelspec": {
   "display_name": ".venv",
   "language": "python",
   "name": "python3"
  },
  "language_info": {
   "codemirror_mode": {
    "name": "ipython",
    "version": 3
   },
   "file_extension": ".py",
   "mimetype": "text/x-python",
   "name": "python",
   "nbconvert_exporter": "python",
   "pygments_lexer": "ipython3",
   "version": "3.10.9"
  }
 },
 "nbformat": 4,
 "nbformat_minor": 2
}
