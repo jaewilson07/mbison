{
 "cells": [
  {
   "cell_type": "code",
   "execution_count": null,
   "metadata": {},
   "outputs": [],
   "source": [
    "#| default_exp feature.users"
   ]
  },
  {
   "cell_type": "markdown",
   "metadata": {},
   "source": [
    "# Users\n",
    "\n",
    "- [ ] - get_users() route implemented without loop.  default limit is 50. "
   ]
  },
  {
   "cell_type": "code",
   "execution_count": null,
   "metadata": {},
   "outputs": [],
   "source": [
    "#| exporti\n",
    "\n",
    "from dataclasses import dataclass , field\n",
    "\n",
    "import mbison.client.core as dmda"
   ]
  },
  {
   "cell_type": "code",
   "execution_count": null,
   "metadata": {},
   "outputs": [],
   "source": [
    "#| hide\n",
    "import nbdev\n",
    "import os"
   ]
  },
  {
   "cell_type": "code",
   "execution_count": null,
   "metadata": {},
   "outputs": [
    {
     "name": "stdout",
     "output_type": "stream",
     "text": [
      "*** Using Access Token Auth\n"
     ]
    },
    {
     "data": {
      "text/plain": [
       "DomoAuth(domo_instance='domo-community', username=None)"
      ]
     },
     "execution_count": null,
     "metadata": {},
     "output_type": "execute_result"
    }
   ],
   "source": [
    "auth = dmda.DomoAuth(\n",
    "    domo_instance=os.environ[\"DOMO_INSTANCE\"],\n",
    "    access_token=os.environ[\"DOMO_ACCESS_TOKEN\"],\n",
    ")\n",
    "# auth.who_am_i()\n",
    "auth"
   ]
  },
  {
   "cell_type": "code",
   "execution_count": null,
   "metadata": {},
   "outputs": [],
   "source": [
    "#| export\n",
    "class User_API_Exception(dmda.API_Exception):\n",
    "    def __init__(self, res, message= None):\n",
    "\n",
    "        super().__init__(res = res,message = message)"
   ]
  },
  {
   "cell_type": "code",
   "execution_count": null,
   "metadata": {},
   "outputs": [],
   "source": [
    "#| export\n",
    "\n",
    "def get_users(auth : dmda.DomoAuth , debug_api: bool = False):\n",
    "\n",
    "    endpoint = f\"/api/content/v3/users/\"\n",
    "\n",
    "    params = {\"includeDetails\": True}\n",
    "\n",
    "    res = dmda.domo_api_request(\n",
    "        auth= auth,\n",
    "        endpoint=endpoint,\n",
    "        request_type= \"GET\",\n",
    "        params = params,\n",
    "        debug_api= debug_api,\n",
    "    )\n",
    "\n",
    "\n",
    "    if not res.is_success and res.status == 404 :\n",
    "        raise User_API_Exception(res, message = f\"unable to find user - {user_id}\")\n",
    "\n",
    "    return res"
   ]
  },
  {
   "cell_type": "code",
   "execution_count": null,
   "metadata": {},
   "outputs": [
    {
     "name": "stdout",
     "output_type": "stream",
     "text": [
      "50\n"
     ]
    },
    {
     "data": {
      "text/plain": [
       "{'id': 1216550715,\n",
       " 'invitorUserId': 1893952720,\n",
       " 'displayName': '8:26 - go to sleep',\n",
       " 'role': 'Privileged',\n",
       " 'roleId': 2,\n",
       " 'detail': {'email': 'test4@domo.com',\n",
       "  'phoneNumber': '152',\n",
       "  'pending': True,\n",
       "  'active': True,\n",
       "  'created': 1664938821,\n",
       "  'modified': 1718758313,\n",
       "  'department': 'test'}}"
      ]
     },
     "execution_count": null,
     "metadata": {},
     "output_type": "execute_result"
    }
   ],
   "source": [
    "res =get_users( auth =auth, debug_api = False)\n",
    "\n",
    "print(len(res.response))\n",
    "user = res.response[0]\n",
    "user"
   ]
  },
  {
   "cell_type": "code",
   "execution_count": null,
   "metadata": {},
   "outputs": [],
   "source": [
    "#| export\n",
    "\n",
    "def get_user_by_id(user_id, auth : dmda.DomoAuth , debug_api: bool = False):\n",
    "\n",
    "    endpoint = f\"/api/content/v3/users/{user_id}\"\n",
    "\n",
    "    params = {\"includeDetails\": True}\n",
    "\n",
    "    res = dmda.domo_api_request(\n",
    "        auth= auth,\n",
    "        endpoint=endpoint,\n",
    "        request_type= \"GET\",\n",
    "        params = params,\n",
    "        debug_api= debug_api,\n",
    "    )\n",
    "\n",
    "\n",
    "    if not res.is_success and res.status == 404 :\n",
    "        raise User_API_Exception(res, message = f\"unable to find user - {user_id}\")\n",
    "\n",
    "    return res"
   ]
  },
  {
   "cell_type": "code",
   "execution_count": null,
   "metadata": {},
   "outputs": [
    {
     "data": {
      "text/plain": [
       "{'id': 1216550715,\n",
       " 'invitorUserId': 1893952720,\n",
       " 'displayName': '8:26 - go to sleep',\n",
       " 'role': 'Privileged',\n",
       " 'roleId': 2,\n",
       " 'detail': {'email': 'test4@domo.com',\n",
       "  'phoneNumber': '152',\n",
       "  'pending': True,\n",
       "  'active': True,\n",
       "  'created': 1664938821,\n",
       "  'modified': 1718758313,\n",
       "  'department': 'test'}}"
      ]
     },
     "execution_count": null,
     "metadata": {},
     "output_type": "execute_result"
    }
   ],
   "source": [
    "(get_user_by_id(user_id = user['id'], auth =auth, debug_api = False)).response\n"
   ]
  },
  {
   "cell_type": "code",
   "execution_count": null,
   "metadata": {},
   "outputs": [],
   "source": [
    "#| export\n",
    "\n",
    "@dataclass\n",
    "class DomoUser:\n",
    "    auth :dmda.DomoAuth = field(repr = False)\n",
    "    id: str\n",
    "    display_name: str\n",
    "    role_id: int\n",
    "    email : str\n",
    "\n",
    "    @classmethod\n",
    "    def from_json(cls, obj, auth : dmda.DomoAuth):\n",
    "        return cls(\n",
    "            auth = auth, \n",
    "            id = obj['id'],\n",
    "            display_name = obj['displayName'],\n",
    "            role_id = obj['roleId'],\n",
    "            email = obj['detail']['email']\n",
    "        )\n",
    "    \n",
    "    @classmethod\n",
    "    def get_by_id(cls, user_id, auth, debug_api : bool = False, return_raw :bool = False):\n",
    "        res = get_user_by_id(user_id = user_id, auth =auth, debug_api = debug_api)\n",
    "\n",
    "        if return_raw:\n",
    "            return res\n",
    "        \n",
    "        return cls.from_json(obj = res.response , auth = auth)"
   ]
  },
  {
   "cell_type": "code",
   "execution_count": null,
   "metadata": {},
   "outputs": [
    {
     "data": {
      "text/plain": [
       "DomoUser(id=1216550715, display_name='8:26 - go to sleep', role_id=2, email='test4@domo.com')"
      ]
     },
     "execution_count": null,
     "metadata": {},
     "output_type": "execute_result"
    }
   ],
   "source": [
    "DomoUser.get_by_id(user_id= user['id'], auth = auth)\n"
   ]
  },
  {
   "cell_type": "code",
   "execution_count": null,
   "metadata": {},
   "outputs": [],
   "source": [
    "#| hide\n",
    "\n",
    "\n",
    "nbdev.nbdev_export()"
   ]
  }
 ],
 "metadata": {
  "kernelspec": {
   "display_name": "python3",
   "language": "python",
   "name": "python3"
  }
 },
 "nbformat": 4,
 "nbformat_minor": 2
}
