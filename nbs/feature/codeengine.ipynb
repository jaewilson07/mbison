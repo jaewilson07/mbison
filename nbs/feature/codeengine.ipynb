{
 "cells": [
  {
   "cell_type": "code",
   "execution_count": null,
   "metadata": {},
   "outputs": [],
   "source": [
    "#| default_exp feature.codeengine"
   ]
  },
  {
   "cell_type": "code",
   "execution_count": null,
   "metadata": {},
   "outputs": [],
   "source": [
    "#| exporti\n",
    "\n",
    "from dataclasses import dataclass, field\n",
    "\n",
    "from typing import List\n",
    "import datetime as dt\n",
    "\n",
    "import mbison.client.core as dmda"
   ]
  },
  {
   "cell_type": "code",
   "execution_count": null,
   "metadata": {},
   "outputs": [],
   "source": [
    "#| hide\n",
    "import nbdev\n",
    "import os\n",
    "from pprint import pprint"
   ]
  },
  {
   "cell_type": "code",
   "execution_count": null,
   "metadata": {},
   "outputs": [],
   "source": [
    "auth = dmda.DomoAuth(\n",
    "    domo_instance=os.environ[\"DOMO_INSTANCE\"],\n",
    "    access_token=os.environ[\"DOMO_ACCESS_TOKEN\"],\n",
    ")\n",
    "auth"
   ]
  },
  {
   "cell_type": "markdown",
   "metadata": {},
   "source": [
    "## Routes"
   ]
  },
  {
   "cell_type": "code",
   "execution_count": null,
   "metadata": {},
   "outputs": [],
   "source": [
    "#| export\n",
    "\n",
    "def get_packages(auth: dmda.DomoAuth, debug_api : bool = False):\n",
    "    endpoint = \"/api/codeengine/v2/packages\"\n",
    "\n",
    "    res = dmda.domo_api_request(endpoint = endpoint,\n",
    "                                auth=auth, request_type=\"get\",\n",
    "                                debug_api= debug_api\n",
    "                                )\n",
    "\n",
    "    return res"
   ]
  },
  {
   "cell_type": "code",
   "execution_count": null,
   "metadata": {},
   "outputs": [],
   "source": [
    "res = get_packages(auth=auth, debug_api= False)\n",
    "packages = res.response\n",
    "\n",
    "packages[0:1]"
   ]
  },
  {
   "cell_type": "code",
   "execution_count": null,
   "metadata": {},
   "outputs": [],
   "source": [
    "#| export\n",
    "\n",
    "def get_package_by_id(auth: dmda.DomoAuth, package_id, debug_api : bool = False):\n",
    "        \n",
    "        endpoint = f\"/api/codeengine/v2/packages/{package_id}\"\n",
    "                \n",
    "        return dmda.domo_api_request(endpoint=endpoint, request_type = 'get', auth=auth, debug_api=debug_api)\n"
   ]
  },
  {
   "cell_type": "code",
   "execution_count": null,
   "metadata": {},
   "outputs": [],
   "source": [
    "get_package_by_id(auth = auth, package_id = packages[0]['id'])"
   ]
  },
  {
   "cell_type": "code",
   "execution_count": null,
   "metadata": {},
   "outputs": [],
   "source": [
    "#| export\n",
    "\n",
    "def get_package_versions(auth: dmda.DomoAuth, package_id, debug_api : bool = False):\n",
    "        \n",
    "        endpoint = f\"/api/codeengine/v2/packages/{package_id}/versions/\"\n",
    "\n",
    "        params = {\"parts\" : \" functions,code\"}\n",
    "                \n",
    "        return dmda.domo_api_request(endpoint=endpoint, request_type = 'get', auth=auth,params=params, debug_api=debug_api)\n",
    "\n",
    "\n",
    "def get_package_version_by_id(auth: dmda.DomoAuth, package_id, version, debug_api : bool = False):\n",
    "        \n",
    "        endpoint = f\"/api/codeengine/v2/packages/{package_id}/versions/{version}\"\n",
    "\n",
    "        params = {\"parts\" : \" functions,code\"}\n",
    "                \n",
    "        return dmda.domo_api_request(endpoint=endpoint, request_type = 'get', auth=auth,params=params, debug_api=debug_api)\n"
   ]
  },
  {
   "cell_type": "code",
   "execution_count": null,
   "metadata": {},
   "outputs": [],
   "source": [
    "package = packages[1]\n",
    "\n",
    "get_package_version_by_id(\n",
    "    auth=auth, package_id=package[\"id\"], version=package[\"versions\"][0][\"version\"]\n",
    ")"
   ]
  },
  {
   "cell_type": "code",
   "execution_count": null,
   "metadata": {},
   "outputs": [],
   "source": [
    "package = packages[1]\n",
    "\n",
    "get_package_versions(\n",
    "    auth=auth, package_id=package[\"id\"])"
   ]
  },
  {
   "cell_type": "markdown",
   "metadata": {},
   "source": [
    "## Classes"
   ]
  },
  {
   "cell_type": "code",
   "execution_count": null,
   "metadata": {},
   "outputs": [],
   "source": [
    "#| export\n",
    "\n",
    "@dataclass \n",
    "class DomoCodeEngine_PackageVersion:\n",
    "    auth : dmda.DomoAuth = field(repr = False)\n",
    "    package_id: str\n",
    "    version : str\n",
    "    code : str\n",
    "    created_by : dict\n",
    "    created_on_dt : dt.datetime\n",
    "    updated_by : dict\n",
    "    updated_on_dt : dt.datetime\n",
    "\n",
    "    @classmethod\n",
    "    def from_json(cls, auth: dmda.DomoAuth, obj):\n",
    "        return cls(\n",
    "            auth = auth,\n",
    "            package_id = obj['packageId'],\n",
    "            version = obj['version'],\n",
    "            code = obj[\"code\"],\n",
    "            created_by = obj[\"createdBy\"],\n",
    "            created_on_dt = obj[\"createdOn\"],\n",
    "            updated_by = obj[\"updatedBy\"],\n",
    "            updated_on_dt = obj[\"updatedOn\"],\n",
    "        )\n",
    "    \n",
    "    @classmethod\n",
    "    def get_by_id(cls, auth : dmda.DomoAuth, package_id : str , version: str, return_raw : bool = False, debug_api: bool=  False):\n",
    "\n",
    "        res = get_package_version_by_id(auth = auth, package_id = package_id, \n",
    "                                  version = version, debug_api = debug_api)\n",
    "\n",
    "        if return_raw:\n",
    "            return res\n",
    "\n",
    "        return cls.from_json(\n",
    "            auth = auth,\n",
    "            obj = res.response\n",
    "        )\n",
    "\n"
   ]
  },
  {
   "cell_type": "code",
   "execution_count": null,
   "metadata": {},
   "outputs": [],
   "source": [
    "DomoCodeEngine_PackageVersion.get_by_id(\n",
    "    auth=auth, \n",
    "    package_id=package[\"id\"],\n",
    "    version=package[\"versions\"][0][\"version\"]\n",
    ")"
   ]
  },
  {
   "cell_type": "code",
   "execution_count": null,
   "metadata": {},
   "outputs": [],
   "source": [
    "# | export\n",
    "\n",
    "\n",
    "@dataclass\n",
    "class DomoCodeEngine_Package:\n",
    "    auth: dmda.DomoAuth = field(repr=False)\n",
    "    id: str\n",
    "    name: str\n",
    "    environment: str\n",
    "    availability: str\n",
    "    owner: dict\n",
    "\n",
    "    created_on_dt: dt.datetime\n",
    "    updated_on_dt: dt.datetime\n",
    "\n",
    "    source: str\n",
    "\n",
    "    current_version: str = None\n",
    "    description: str = None\n",
    "    language: str = None\n",
    "\n",
    "    dce_versions : List[DomoCodeEngine_PackageVersion] = None\n",
    "    dce_current_version : DomoCodeEngine_PackageVersion = None\n",
    "\n",
    "    @classmethod\n",
    "    def from_json(cls, auth: dmda.DomoAuth, obj):\n",
    "\n",
    "        return cls(\n",
    "            auth=auth,\n",
    "            id=obj[\"id\"],\n",
    "            name=obj[\"name\"],\n",
    "            language=obj[\"language\"],\n",
    "            environment=obj[\"environment\"],\n",
    "            availability=obj[\"availability\"],\n",
    "            owner=obj[\"owner\"],\n",
    "            created_on_dt=obj[\"createdOn\"],\n",
    "            updated_on_dt=obj[\"updatedOn\"],\n",
    "            source=obj[\"packageSource\"],\n",
    "            description=obj.get(\"description\"),\n",
    "            current_version = obj.get('versions')[0]['version']\n",
    "        )\n",
    "\n",
    "    @classmethod\n",
    "    def get_by_id(\n",
    "        cls,\n",
    "        auth: dmda.DomoAuth,\n",
    "        package_id,\n",
    "        debug_api: bool = False,\n",
    "        return_raw: bool = False,\n",
    "    ):\n",
    "        res = get_package_by_id(auth=auth, package_id=package_id, debug_api=debug_api)\n",
    "\n",
    "        if return_raw:\n",
    "            return res\n",
    "\n",
    "        return cls.from_json(auth=auth, obj=res.response)\n",
    "    \n",
    "    def get_versions(self, debug_api: bool = False, return_raw: bool = False):\n",
    "\n",
    "        res = get_package_versions(auth = self.auth, package_id=self.id, debug_api=debug_api)\n",
    "\n",
    "        if return_raw:\n",
    "            return res\n",
    "        \n",
    "        self.dce_versions = [ DomoCodeEngine_PackageVersion.from_json(auth = self.auth, obj = obj) for obj in res.response]\n",
    "        \n",
    "        return self.dce_versions\n",
    "    \n",
    "    def get_current_version(self, debug_api: bool = False, return_raw: bool = False):\n",
    "\n",
    "        res = DomoCodeEngine_PackageVersion.get_by_id(auth = self.auth, \n",
    "                                                                  package_id=self.id, \n",
    "                                                                  version = self.current_version, \n",
    "                                                                  debug_api= debug_api, \n",
    "                                                                  return_raw=return_raw)\n",
    "        \n",
    "        if return_raw:\n",
    "            return res\n",
    "        \n",
    "        self.dce_current_version = res\n",
    "        \n",
    "        return self.dce_current_version\n",
    "        \n",
    "        "
   ]
  },
  {
   "cell_type": "code",
   "execution_count": null,
   "metadata": {},
   "outputs": [],
   "source": [
    "pprint(DomoCodeEngine_Package.get_by_id(auth  =auth, package_id=package['id']))"
   ]
  },
  {
   "cell_type": "code",
   "execution_count": null,
   "metadata": {},
   "outputs": [],
   "source": [
    "#| export \n",
    "\n",
    "@dataclass\n",
    "class DomoCodeEngine_Packages:\n",
    "    auth: dmda.DomoAuth = field(repr = False)\n",
    "    packages : List[dict] = field(repr = False, default = None)\n",
    "\n",
    "    dce_packages:  List[DomoCodeEngine_Package] = field(default_factory=lambda : [])\n",
    "\n",
    "    def get_packages(self, debug_api: bool = False, return_raw : bool = False):\n",
    "        res = get_packages(auth = self.auth, debug_api = debug_api)\n",
    "\n",
    "        if return_raw:\n",
    "            return res\n",
    "\n",
    "        self.packages = res.response\n",
    "        \n",
    "        self.dce_packages = [DomoCodeEngine_Package.from_json(auth=self.auth , obj = obj) for obj in self.packages]\n",
    "\n",
    "        return self.dce_packages"
   ]
  },
  {
   "cell_type": "code",
   "execution_count": null,
   "metadata": {},
   "outputs": [],
   "source": [
    "dce_packages = DomoCodeEngine_Packages(auth = auth )\n",
    "\n",
    "dce_packages.get_packages()[0:5]"
   ]
  },
  {
   "cell_type": "code",
   "execution_count": null,
   "metadata": {},
   "outputs": [],
   "source": [
    "#| hide\n",
    "nbdev.nbdev_export('./codeengine.ipynb')"
   ]
  }
 ],
 "metadata": {
  "kernelspec": {
   "display_name": "python3",
   "language": "python",
   "name": "python3"
  }
 },
 "nbformat": 4,
 "nbformat_minor": 2
}
