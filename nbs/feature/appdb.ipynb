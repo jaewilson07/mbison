{
 "cells": [
  {
   "cell_type": "raw",
   "metadata": {},
   "source": [
    "\n",
    "---\n",
    "title: appdb\n",
    "output-file: feature/appdb.html\n",
    "---"
   ]
  },
  {
   "cell_type": "code",
   "execution_count": 10,
   "metadata": {},
   "outputs": [],
   "source": [
    "#| default_exp feature.appdb"
   ]
  },
  {
   "cell_type": "markdown",
   "metadata": {},
   "source": []
  },
  {
   "cell_type": "code",
   "execution_count": 11,
   "metadata": {},
   "outputs": [],
   "source": [
    "#| exporti\n",
    "\n",
    "from dataclasses import dataclass, field\n",
    "\n",
    "from typing import List\n",
    "import datetime as dt\n",
    "from numbers import Number\n",
    "\n",
    "import mbison.client.core as dmda\n",
    "import mbison.client.utils as dmut"
   ]
  },
  {
   "cell_type": "code",
   "execution_count": 12,
   "metadata": {},
   "outputs": [],
   "source": [
    "#| hide\n",
    "import nbdev\n",
    "import os\n",
    "from pprint import pprint"
   ]
  },
  {
   "cell_type": "code",
   "execution_count": 13,
   "metadata": {},
   "outputs": [
    {
     "data": {
      "text/plain": [
       "DomoAuth(domo_instance='domo-community', username=None)"
      ]
     },
     "execution_count": 13,
     "metadata": {},
     "output_type": "execute_result"
    }
   ],
   "source": [
    "auth = dmda.DomoAuth(\n",
    "    domo_instance=os.environ[\"DOMO_INSTANCE\"],\n",
    "    access_token=os.environ[\"DOMO_ACCESS_TOKEN\"],\n",
    ")\n",
    "auth"
   ]
  },
  {
   "cell_type": "code",
   "execution_count": 14,
   "metadata": {},
   "outputs": [],
   "source": [
    "collection_id = '0f68f250-df2c-4a15-98ef-9cdd851602eb'"
   ]
  },
  {
   "cell_type": "markdown",
   "metadata": {},
   "source": [
    "## Routes"
   ]
  },
  {
   "cell_type": "code",
   "execution_count": 15,
   "metadata": {},
   "outputs": [],
   "source": [
    "#| exports\n",
    "class AppDb_API_Exception(dmda.API_Exception):\n",
    "    def __init__(self, res, message=None):\n",
    "\n",
    "        super().__init__(res=res, message=message)"
   ]
  },
  {
   "cell_type": "code",
   "execution_count": 16,
   "metadata": {},
   "outputs": [],
   "source": [
    "#| exports\n",
    "\n",
    "def get_collections(\n",
    "    auth: dmda.DomoAuth,\n",
    "    debug_api: bool = False,\n",
    "    datastore_id : str = None, # filters for a specific datastoreId\n",
    "):\n",
    "    \"\"\"retrieve collections\"\"\"\n",
    "\n",
    "    endpoint = f\"/api/datastores/v1/collections/\"\n",
    "\n",
    "    res =  dmda.domo_api_request(\n",
    "        auth=auth,\n",
    "        request_type=\"GET\",\n",
    "        endpoint= endpoint,\n",
    "        debug_api=debug_api,\n",
    "        params = {'datastoreId': datastore_id}\n",
    "    )\n",
    "\n",
    "    if not res.is_success and res.status == 400:\n",
    "        raise AppDb_API_Exception(res, message = f\"invalid datastoreId  - {datastore_id}?\")\n",
    "\n",
    "    if not res.is_success:\n",
    "        raise AppDb_API_Exception(res)\n",
    "    \n",
    "    return res"
   ]
  },
  {
   "cell_type": "code",
   "execution_count": 17,
   "metadata": {},
   "outputs": [
    {
     "data": {
      "text/plain": [
       "[{'id': '3e6ba7a6-9261-44fd-8eef-987fdbb99e18',\n",
       "  'datastoreId': 'de230a76-bc70-404e-b3f4-a6f7dea45723',\n",
       "  'defaultPermissions': None,\n",
       "  'requiredAuthorities': None,\n",
       "  'owner': 826020125,\n",
       "  'name': 'ColumnConfig',\n",
       "  'datasourceId': None,\n",
       "  'schema': None,\n",
       "  'filters': None,\n",
       "  'syncEnabled': False,\n",
       "  'syncRequired': False,\n",
       "  'fullReplaceRequired': False,\n",
       "  'lastSync': None,\n",
       "  'createdOn': '2020-11-20T17:58:42.550Z',\n",
       "  'updatedOn': '2023-02-14T20:17:27.920Z',\n",
       "  'updatedBy': 826020125}]"
      ]
     },
     "execution_count": 17,
     "metadata": {},
     "output_type": "execute_result"
    }
   ],
   "source": [
    "res = get_collections(auth=auth, debug_api= False,\n",
    "                    #   datastore_id = datastore_id\n",
    "                      )\n",
    "collections = res.response\n",
    "collections[0:1]"
   ]
  },
  {
   "cell_type": "code",
   "execution_count": 18,
   "metadata": {},
   "outputs": [],
   "source": [
    "#| exports\n",
    "def get_collection_by_id(\n",
    "    auth: dmda.DomoAuth,\n",
    "    collection_id : str,\n",
    "    debug_api: bool = False,\n",
    "):\n",
    "\n",
    "    endpoint = f\"/api/datastores/v1/collections/{collection_id}\"\n",
    "\n",
    "    res =  dmda.domo_api_request(\n",
    "        auth=auth,\n",
    "        request_type=\"GET\",\n",
    "        endpoint= endpoint,\n",
    "        debug_api=debug_api,\n",
    "    )\n",
    "\n",
    "    if not res.is_success:\n",
    "        raise AppDb_API_Exception(res)\n",
    "    \n",
    "    return res"
   ]
  },
  {
   "cell_type": "code",
   "execution_count": 19,
   "metadata": {},
   "outputs": [
    {
     "data": {
      "text/plain": [
       "{'id': '0f68f250-df2c-4a15-98ef-9cdd851602eb',\n",
       " 'datastoreId': '6aa87886-9167-4191-8491-c9b5bc8bece5',\n",
       " 'defaultPermissions': 'read,read_content',\n",
       " 'requiredAuthorities': {'CREATE': ['domoapps.edit'],\n",
       "  'CREATE_CONTENT': ['domoapps.edit'],\n",
       "  'DELETE': ['domoapps.edit'],\n",
       "  'DELETE_CONTENT': ['domoapps.edit'],\n",
       "  'UPDATE': ['domoapps.edit'],\n",
       "  'UPDATE_CONTENT': ['domoapps.edit']},\n",
       " 'owner': 1893952720,\n",
       " 'name': 'ddx_app_client_code',\n",
       " 'datasourceId': None,\n",
       " 'schema': None,\n",
       " 'filters': None,\n",
       " 'syncEnabled': False,\n",
       " 'syncRequired': False,\n",
       " 'fullReplaceRequired': False,\n",
       " 'lastSync': None,\n",
       " 'createdOn': '2024-05-30T07:45:21.869Z',\n",
       " 'updatedOn': '2024-05-30T07:45:21.869Z',\n",
       " 'updatedBy': 1893952720}"
      ]
     },
     "execution_count": 19,
     "metadata": {},
     "output_type": "execute_result"
    }
   ],
   "source": [
    "res = get_collection_by_id(auth=auth, debug_api= False, \n",
    "                        #    collection_id =  collections[0]['id']\n",
    "                           collection_id = '0f68f250-df2c-4a15-98ef-9cdd851602eb'\n",
    "                             )\n",
    "\n",
    "collection = res.response\n",
    "collection"
   ]
  },
  {
   "cell_type": "code",
   "execution_count": 20,
   "metadata": {},
   "outputs": [],
   "source": [
    "#| exports\n",
    "\n",
    "def query_collection_documents(\n",
    "    auth: dmda.DomoAuth,\n",
    "    collection_id: str,\n",
    "    query : dict = None,\n",
    "    debug_api : bool = False\n",
    "):\n",
    "    endpoint = f'/api/datastores/v2/collections/{collection_id}/documents/query'\n",
    "\n",
    "    query = query or {}\n",
    "\n",
    "    res =  dmda.domo_api_request(\n",
    "        auth=auth,\n",
    "        request_type=\"POST\",\n",
    "        endpoint= endpoint,\n",
    "        debug_api=debug_api,\n",
    "        body = query\n",
    "    )\n",
    "\n",
    "    if not res.is_success:\n",
    "        raise AppDb_API_Exception(res)\n",
    "    \n",
    "    return res\n"
   ]
  },
  {
   "cell_type": "code",
   "execution_count": 21,
   "metadata": {},
   "outputs": [
    {
     "data": {
      "text/plain": [
       "[{'id': '302663f9-c0bc-4413-894a-3075711b3600',\n",
       "  'datastoreId': '6aa87886-9167-4191-8491-c9b5bc8bece5',\n",
       "  'collectionId': '0f68f250-df2c-4a15-98ef-9cdd851602eb',\n",
       "  'syncRequired': True,\n",
       "  'owner': '1893952720',\n",
       "  'createdBy': '1893952720',\n",
       "  'createdOn': '2024-05-30T07:45:25.355Z',\n",
       "  'updatedOn': '2024-05-30T10:14:07.365Z',\n",
       "  'updatedBy': '1893952720',\n",
       "  'content': {'htmlEasy': {'js': 'fakeEmail = \"ar@test.com\";\\r\\n// fakeEmail = domo.env.userEmail;\\r\\n\\r\\n//Available globals\\r\\nvar domo = window.domo; // For more on domo.js: https://developer.domo.com/docs/dev-studio-guides/domo-js#domo.get\\r\\nvar datasets = window.datasets;\\r\\n\\r\\nlet whoami = domo.env.userId\\r\\nconsole.log(whoami)\\r\\nwhoami = 612085674 //noah\\r\\n\\r\\nSQL_activityLog = \"select `SOURCE_ID` as user_id, `Object_ID` as page_id, count(*) as viewCount FROM dataset1 where `Action` = \\'VIEWED\\' and `Object_Type` = \\'PAGE\\' and `SOURCE_ID` = \\'\" + whoami +\"\\'  GROUP BY `Object_ID`, `Source_ID` ORDER BY count(*)\"\\r\\n\\r\\nfunction mergeRowsColumns(rows, columns) {\\r\\n  return rows.map((row) => {\\r\\n    let obj = {};\\r\\n    row.forEach((item, index) => {\\r\\n      obj[columns[index]] = item;\\r\\n    });\\r\\n    return obj;\\r\\n  });\\r\\n}\\r\\n\\r\\nconst get_data = async (sql_str, dataset_alias) => {\\r\\n  api_str = `/sql/v1/${dataset_alias}`;\\r\\n  console.log(api_str, sql_str);\\r\\n\\r\\n  res = await domo.post(api_str, sql_str, { contentType: \"text/plain\" });\\r\\n\\r\\n  return mergeRowsColumns((rows = res.rows), (columns = res.columns));\\r\\n};\\r\\n\\r\\nconst paint_links = (links)=> {\\r\\n  return links.reduce( (accum, link) =>  {\\r\\n    accum += `<div >${link.page_id}<div>`\\r\\n    return accum } \\r\\n    , \"\")\\r\\n}\\r\\n\\r\\nconst main = async () => {\\r\\n  const whodiv = document.getElementById(\\'whoami\\')\\r\\n  whodiv.innerHTML = whoami\\r\\n  \\r\\n  const mydiv = document.getElementById(\\'myDiv\\')\\r\\n  \\r\\n  const data = await get_data(sql_str = SQL_activityLog, \\'dataset1\\')\\r\\n  console.log(mydiv)\\r\\n  mydiv.innerHTML = paint_links(data)\\r\\n}\\r\\n\\r\\nmain()',\n",
       "    'html': '<div>\\n  <div id = \"whoami\"/>\\n  <div id = \"myDiv\" />\\n</div>',\n",
       "    'css': '#myDiv {\\n  display: flex;\\n  align-items: center;\\n  justify-content: center;\\n  background: rgb(131,58,180);\\n\\tbackground: linear-gradient(90deg, rgba(121,64,161,1) 0%, rgba(228,88,80,1) 50%, rgba(251,141,52,1) 100%);\\n  height: calc(100vh);\\n}\\n\\nh1 {\\n  color: white;\\n}'}}}]"
      ]
     },
     "execution_count": 21,
     "metadata": {},
     "output_type": "execute_result"
    }
   ],
   "source": [
    "res = query_collection_documents(auth=auth,\n",
    "                                 debug_api= False,\n",
    "                                 collection_id = collection['id']\n",
    "                                 )\n",
    "\n",
    "documents = res.response\n",
    "documents"
   ]
  },
  {
   "cell_type": "code",
   "execution_count": 22,
   "metadata": {},
   "outputs": [],
   "source": [
    "#| exports\n",
    "\n",
    "def get_collection_document_by_id(\n",
    "    auth: dmda.DomoAuth,\n",
    "    collection_id: str,\n",
    "    document_id : str,\n",
    "    query : dict = None,\n",
    "    debug_api : bool = False\n",
    "):\n",
    "    endpoint = f'/api/datastores/v2/collections/{collection_id}/documents/{document_id}'\n",
    "\n",
    "    query = query or {}\n",
    "\n",
    "    res =  dmda.domo_api_request(\n",
    "        auth=auth,\n",
    "        request_type=\"GET\",\n",
    "        endpoint= endpoint,\n",
    "        debug_api=debug_api,\n",
    "        body = query\n",
    "    )\n",
    "\n",
    "    if not res.is_success:\n",
    "        raise AppDb_API_Exception(res)\n",
    "    \n",
    "    return res\n"
   ]
  },
  {
   "cell_type": "code",
   "execution_count": 23,
   "metadata": {},
   "outputs": [
    {
     "data": {
      "text/plain": [
       "{'id': '302663f9-c0bc-4413-894a-3075711b3600',\n",
       " 'datastoreId': '6aa87886-9167-4191-8491-c9b5bc8bece5',\n",
       " 'collectionId': '0f68f250-df2c-4a15-98ef-9cdd851602eb',\n",
       " 'syncRequired': True,\n",
       " 'owner': '1893952720',\n",
       " 'createdBy': '1893952720',\n",
       " 'createdOn': '2024-05-30T07:45:25.355Z',\n",
       " 'updatedOn': '2024-05-30T10:14:07.365Z',\n",
       " 'updatedBy': '1893952720',\n",
       " 'content': {'htmlEasy': {'js': 'fakeEmail = \"ar@test.com\";\\r\\n// fakeEmail = domo.env.userEmail;\\r\\n\\r\\n//Available globals\\r\\nvar domo = window.domo; // For more on domo.js: https://developer.domo.com/docs/dev-studio-guides/domo-js#domo.get\\r\\nvar datasets = window.datasets;\\r\\n\\r\\nlet whoami = domo.env.userId\\r\\nconsole.log(whoami)\\r\\nwhoami = 612085674 //noah\\r\\n\\r\\nSQL_activityLog = \"select `SOURCE_ID` as user_id, `Object_ID` as page_id, count(*) as viewCount FROM dataset1 where `Action` = \\'VIEWED\\' and `Object_Type` = \\'PAGE\\' and `SOURCE_ID` = \\'\" + whoami +\"\\'  GROUP BY `Object_ID`, `Source_ID` ORDER BY count(*)\"\\r\\n\\r\\nfunction mergeRowsColumns(rows, columns) {\\r\\n  return rows.map((row) => {\\r\\n    let obj = {};\\r\\n    row.forEach((item, index) => {\\r\\n      obj[columns[index]] = item;\\r\\n    });\\r\\n    return obj;\\r\\n  });\\r\\n}\\r\\n\\r\\nconst get_data = async (sql_str, dataset_alias) => {\\r\\n  api_str = `/sql/v1/${dataset_alias}`;\\r\\n  console.log(api_str, sql_str);\\r\\n\\r\\n  res = await domo.post(api_str, sql_str, { contentType: \"text/plain\" });\\r\\n\\r\\n  return mergeRowsColumns((rows = res.rows), (columns = res.columns));\\r\\n};\\r\\n\\r\\nconst paint_links = (links)=> {\\r\\n  return links.reduce( (accum, link) =>  {\\r\\n    accum += `<div >${link.page_id}<div>`\\r\\n    return accum } \\r\\n    , \"\")\\r\\n}\\r\\n\\r\\nconst main = async () => {\\r\\n  const whodiv = document.getElementById(\\'whoami\\')\\r\\n  whodiv.innerHTML = whoami\\r\\n  \\r\\n  const mydiv = document.getElementById(\\'myDiv\\')\\r\\n  \\r\\n  const data = await get_data(sql_str = SQL_activityLog, \\'dataset1\\')\\r\\n  console.log(mydiv)\\r\\n  mydiv.innerHTML = paint_links(data)\\r\\n}\\r\\n\\r\\nmain()',\n",
       "   'html': '<div>\\n  <div id = \"whoami\"/>\\n  <div id = \"myDiv\" />\\n</div>',\n",
       "   'css': '#myDiv {\\n  display: flex;\\n  align-items: center;\\n  justify-content: center;\\n  background: rgb(131,58,180);\\n\\tbackground: linear-gradient(90deg, rgba(121,64,161,1) 0%, rgba(228,88,80,1) 50%, rgba(251,141,52,1) 100%);\\n  height: calc(100vh);\\n}\\n\\nh1 {\\n  color: white;\\n}'}}}"
      ]
     },
     "execution_count": 23,
     "metadata": {},
     "output_type": "execute_result"
    }
   ],
   "source": [
    "res = get_collection_document_by_id(auth=auth,\n",
    "                                 debug_api= False,\n",
    "                                 collection_id = documents[0]['collectionId'],\n",
    "                                 document_id = documents[0]['id']\n",
    "                                 )\n",
    "\n",
    "document = res.response\n",
    "document"
   ]
  },
  {
   "cell_type": "markdown",
   "metadata": {},
   "source": [
    "### Classes"
   ]
  },
  {
   "cell_type": "code",
   "execution_count": 24,
   "metadata": {},
   "outputs": [],
   "source": [
    "# | exports\n",
    "\n",
    "\n",
    "def to_json(value):\n",
    "    \"\"\"\n",
    "    converts complex dictionaries with nested classes to dictionary.\n",
    "    assumes nested classes have a `to_json` method\n",
    "    \"\"\"\n",
    "\n",
    "    if hasattr(value, \"to_json\"):\n",
    "        return value.to_json()\n",
    "\n",
    "    if isinstance(value, dict):\n",
    "        return {key: to_json(v) for key, v in value.items()}\n",
    "\n",
    "    if isinstance(value, list):\n",
    "        return [to_json(v) for v in value]\n",
    "\n",
    "    if isinstance(value, Number):\n",
    "        return value\n",
    "\n",
    "    return str(value)\n",
    "\n",
    "\n",
    "@dataclass\n",
    "class AppDbDocument:\n",
    "\n",
    "    auth: dmda.DomoAuth = field(repr=False)\n",
    "\n",
    "    # document metadata\n",
    "    _collection_id: str\n",
    "    _identity_columns: List[str]\n",
    "    _id: str = None\n",
    "    _created_on_dt: dt.datetime = None\n",
    "    _updated_on_dt: dt.datetime = None\n",
    "\n",
    "    content: dict = None\n",
    "\n",
    "    def to_json(self):\n",
    "        # TO DO - this is not a complete recursive implementation,  may need revision for complex dictionaries\n",
    "        self.update_config()\n",
    "\n",
    "        s = {\"id\": self._id, \"collectionId\": self._collection_id}\n",
    "\n",
    "        for key, value in self.__dict__.items():\n",
    "            if key.startswith(\"_\") or key in [\"auth\"]:\n",
    "                continue\n",
    "\n",
    "            s.update({key: to_json(value)})\n",
    "\n",
    "        return s\n",
    "\n",
    "    def __eq__(self, other):\n",
    "        if self.__class__.__name__ != other.__class__.__name__:\n",
    "            return False\n",
    "\n",
    "        if self._identity_columns:\n",
    "            return all(\n",
    "                getattr(self, col) == getattr(other.col)\n",
    "                for col in self._identity_columns\n",
    "            )\n",
    "\n",
    "        return self._id == other._id\n",
    "\n",
    "    @classmethod\n",
    "    def _from_json(\n",
    "        cls,\n",
    "        auth: dmda.DomoAuth,\n",
    "        content,\n",
    "        new_cls,\n",
    "        identity_columns,\n",
    "        collection_id=None,\n",
    "        document_id=None,\n",
    "        metadata=None,\n",
    "        created_on_dt=None,\n",
    "        updated_on_dt=None,\n",
    "    ):\n",
    "\n",
    "        if metadata:\n",
    "            collection_id = metadata.pop(\"collectionId\")\n",
    "\n",
    "            created_on_dt = dmut.convert_string_to_datetime(metadata.pop(\"createdOn\"))\n",
    "\n",
    "            updated_on_dt = dmut.convert_string_to_datetime(metadata.pop(\"updatedOn\"))\n",
    "            document_id = metadata[\"id\"]\n",
    "\n",
    "        return new_cls(\n",
    "            auth=auth,\n",
    "            _id=document_id,\n",
    "            _identity_columns=identity_columns,\n",
    "            _collection_id=collection_id,\n",
    "            _created_on_dt=created_on_dt,\n",
    "            _updated_on_dt=updated_on_dt,\n",
    "            content=content,\n",
    "            **(content if cls.__name__ != \"AppDbDocument\" else {})\n",
    "        )\n",
    "\n",
    "    @classmethod\n",
    "    def _from_api(\n",
    "        cls,\n",
    "        auth: dmda.DomoAuth,\n",
    "        obj,\n",
    "        identity_columns: List[str] = None,\n",
    "    ):\n",
    "        content = obj.pop(\"content\")\n",
    "\n",
    "        return cls._from_json(\n",
    "            auth=auth,\n",
    "            content=content,\n",
    "            new_cls=cls,\n",
    "            identity_columns=identity_columns,\n",
    "            metadata=obj,\n",
    "        )\n",
    "\n",
    "    @classmethod\n",
    "    def from_json(\n",
    "        cls,\n",
    "        auth: dmda.DomoAuth,\n",
    "        collection_id: str,\n",
    "        content: dict,\n",
    "        identity_columns: List[str] = None,\n",
    "    ):\n",
    "        return cls._from_json(\n",
    "            auth=auth,\n",
    "            content=content,\n",
    "            new_cls=cls,\n",
    "            identity_columns=identity_columns,\n",
    "            collection_id=collection_id,\n",
    "        )\n",
    "\n",
    "    def update_config(self):\n",
    "        self.content = {\n",
    "            key: value\n",
    "            for key, value in self.__dict__.items()\n",
    "            if key not in [\"auth\", \"content\"] and not key.startswith(\"_\")\n",
    "        }\n",
    "        return self.content\n",
    "\n",
    "    @classmethod\n",
    "    def get_by_id(\n",
    "        cls,\n",
    "        collection_id: str,\n",
    "        document_id: str,\n",
    "        auth: dmda.DomoAuth,\n",
    "        identity_columns=None,\n",
    "        debug_api: bool = False,\n",
    "        return_raw: bool = False,\n",
    "    ):\n",
    "        res = get_collection_document_by_id(\n",
    "            auth=auth,\n",
    "            collection_id=collection_id,\n",
    "            document_id=document_id,\n",
    "            debug_api=debug_api,\n",
    "        )\n",
    "\n",
    "        if return_raw:\n",
    "            return res\n",
    "\n",
    "        return cls._from_api(\n",
    "            auth=auth,\n",
    "            obj=res.response,\n",
    "            identity_columns=identity_columns or [],\n",
    "        )\n"
   ]
  },
  {
   "cell_type": "code",
   "execution_count": 25,
   "metadata": {},
   "outputs": [
    {
     "data": {
      "text/plain": [
       "AppDbDocument(_collection_id='0f68f250-df2c-4a15-98ef-9cdd851602eb', _identity_columns=[], _id='302663f9-c0bc-4413-894a-3075711b3600', _created_on_dt=datetime.datetime(2024, 5, 30, 7, 45, 25, 355000, tzinfo=tzutc()), _updated_on_dt=datetime.datetime(2024, 5, 30, 10, 14, 7, 365000, tzinfo=tzutc()), content={'htmlEasy': {'js': 'fakeEmail = \"ar@test.com\";\\r\\n// fakeEmail = domo.env.userEmail;\\r\\n\\r\\n//Available globals\\r\\nvar domo = window.domo; // For more on domo.js: https://developer.domo.com/docs/dev-studio-guides/domo-js#domo.get\\r\\nvar datasets = window.datasets;\\r\\n\\r\\nlet whoami = domo.env.userId\\r\\nconsole.log(whoami)\\r\\nwhoami = 612085674 //noah\\r\\n\\r\\nSQL_activityLog = \"select `SOURCE_ID` as user_id, `Object_ID` as page_id, count(*) as viewCount FROM dataset1 where `Action` = \\'VIEWED\\' and `Object_Type` = \\'PAGE\\' and `SOURCE_ID` = \\'\" + whoami +\"\\'  GROUP BY `Object_ID`, `Source_ID` ORDER BY count(*)\"\\r\\n\\r\\nfunction mergeRowsColumns(rows, columns) {\\r\\n  return rows.map((row) => {\\r\\n    let obj = {};\\r\\n    row.forEach((item, index) => {\\r\\n      obj[columns[index]] = item;\\r\\n    });\\r\\n    return obj;\\r\\n  });\\r\\n}\\r\\n\\r\\nconst get_data = async (sql_str, dataset_alias) => {\\r\\n  api_str = `/sql/v1/${dataset_alias}`;\\r\\n  console.log(api_str, sql_str);\\r\\n\\r\\n  res = await domo.post(api_str, sql_str, { contentType: \"text/plain\" });\\r\\n\\r\\n  return mergeRowsColumns((rows = res.rows), (columns = res.columns));\\r\\n};\\r\\n\\r\\nconst paint_links = (links)=> {\\r\\n  return links.reduce( (accum, link) =>  {\\r\\n    accum += `<div >${link.page_id}<div>`\\r\\n    return accum } \\r\\n    , \"\")\\r\\n}\\r\\n\\r\\nconst main = async () => {\\r\\n  const whodiv = document.getElementById(\\'whoami\\')\\r\\n  whodiv.innerHTML = whoami\\r\\n  \\r\\n  const mydiv = document.getElementById(\\'myDiv\\')\\r\\n  \\r\\n  const data = await get_data(sql_str = SQL_activityLog, \\'dataset1\\')\\r\\n  console.log(mydiv)\\r\\n  mydiv.innerHTML = paint_links(data)\\r\\n}\\r\\n\\r\\nmain()', 'html': '<div>\\n  <div id = \"whoami\"/>\\n  <div id = \"myDiv\" />\\n</div>', 'css': '#myDiv {\\n  display: flex;\\n  align-items: center;\\n  justify-content: center;\\n  background: rgb(131,58,180);\\n\\tbackground: linear-gradient(90deg, rgba(121,64,161,1) 0%, rgba(228,88,80,1) 50%, rgba(251,141,52,1) 100%);\\n  height: calc(100vh);\\n}\\n\\nh1 {\\n  color: white;\\n}'}})"
      ]
     },
     "execution_count": 25,
     "metadata": {},
     "output_type": "execute_result"
    }
   ],
   "source": [
    "AppDbDocument.get_by_id(\n",
    "    auth = auth,\n",
    "    debug_api= False,\n",
    "    collection_id = document['collectionId'],\n",
    "    document_id = document['id'])\n"
   ]
  },
  {
   "cell_type": "code",
   "execution_count": 30,
   "metadata": {},
   "outputs": [],
   "source": [
    "#| exports\n",
    "\n",
    "@dataclass\n",
    "class AppDbCollection:\n",
    "    auth: dmda.DomoAuth = field(repr=False)\n",
    "    id: str\n",
    "    name: str\n",
    "\n",
    "    created_on_dt: dt.datetime\n",
    "    updated_on_dt: dt.datetime\n",
    "\n",
    "    schema: dict\n",
    "\n",
    "    domo_documents: List[AppDbDocument] = None\n",
    "\n",
    "    @classmethod\n",
    "    def _from_json(cls, auth, obj):\n",
    "\n",
    "        return cls(\n",
    "            auth=auth,\n",
    "            id=obj[\"id\"],\n",
    "            name=obj[\"name\"],\n",
    "            created_on_dt=dmut.convert_string_to_datetime(obj[\"createdOn\"]),\n",
    "            updated_on_dt=dmut.convert_string_to_datetime(obj[\"updatedOn\"]),\n",
    "            schema=obj[\"schema\"],\n",
    "        )\n",
    "\n",
    "    @classmethod\n",
    "    def get_by_id(\n",
    "        cls,\n",
    "        auth: dmda.DomoAuth,\n",
    "        collection_id,\n",
    "        debug_api: bool = False,\n",
    "        return_raw: bool = False,\n",
    "    ):\n",
    "\n",
    "        res = get_collection_by_id(\n",
    "            auth=auth,\n",
    "            collection_id=collection_id,\n",
    "            debug_api=debug_api,\n",
    "        )\n",
    "\n",
    "        if return_raw:\n",
    "            return res\n",
    "\n",
    "        return cls._from_json(auth=auth, obj=res.response)\n",
    "\n",
    "    def query_documents(\n",
    "        self,\n",
    "        debug_api: bool = False,\n",
    "        query: dict=None,\n",
    "        return_raw: bool = False,\n",
    "    ):\n",
    "\n",
    "        res = query_collection_documents(\n",
    "            auth=self.auth,\n",
    "            collection_id=self.id,\n",
    "            debug_api=debug_api,\n",
    "            query=query,\n",
    "        )\n",
    "\n",
    "        if return_raw:\n",
    "            return res\n",
    "\n",
    "        self.domo_documents = [\n",
    "                AppDbDocument.get_by_id(\n",
    "                    collection_id=self.id,\n",
    "                    document_id=doc[\"id\"], auth=self.auth\n",
    "                )\n",
    "                for doc in res.response\n",
    "            ]\n",
    "        \n",
    "        return self.domo_documents\n",
    "\n",
    "    def __eq__(self, other):\n",
    "        if not isinstance(other, AppDbCollection):\n",
    "            return False\n",
    "\n",
    "        return self.id == other.id"
   ]
  },
  {
   "cell_type": "code",
   "execution_count": 27,
   "metadata": {},
   "outputs": [
    {
     "data": {
      "text/plain": [
       "[AppDbDocument(_collection_id='0f68f250-df2c-4a15-98ef-9cdd851602eb', _identity_columns=[], _id='302663f9-c0bc-4413-894a-3075711b3600', _created_on_dt=datetime.datetime(2024, 5, 30, 7, 45, 25, 355000, tzinfo=tzutc()), _updated_on_dt=datetime.datetime(2024, 5, 30, 10, 14, 7, 365000, tzinfo=tzutc()), content={'htmlEasy': {'js': 'fakeEmail = \"ar@test.com\";\\r\\n// fakeEmail = domo.env.userEmail;\\r\\n\\r\\n//Available globals\\r\\nvar domo = window.domo; // For more on domo.js: https://developer.domo.com/docs/dev-studio-guides/domo-js#domo.get\\r\\nvar datasets = window.datasets;\\r\\n\\r\\nlet whoami = domo.env.userId\\r\\nconsole.log(whoami)\\r\\nwhoami = 612085674 //noah\\r\\n\\r\\nSQL_activityLog = \"select `SOURCE_ID` as user_id, `Object_ID` as page_id, count(*) as viewCount FROM dataset1 where `Action` = \\'VIEWED\\' and `Object_Type` = \\'PAGE\\' and `SOURCE_ID` = \\'\" + whoami +\"\\'  GROUP BY `Object_ID`, `Source_ID` ORDER BY count(*)\"\\r\\n\\r\\nfunction mergeRowsColumns(rows, columns) {\\r\\n  return rows.map((row) => {\\r\\n    let obj = {};\\r\\n    row.forEach((item, index) => {\\r\\n      obj[columns[index]] = item;\\r\\n    });\\r\\n    return obj;\\r\\n  });\\r\\n}\\r\\n\\r\\nconst get_data = async (sql_str, dataset_alias) => {\\r\\n  api_str = `/sql/v1/${dataset_alias}`;\\r\\n  console.log(api_str, sql_str);\\r\\n\\r\\n  res = await domo.post(api_str, sql_str, { contentType: \"text/plain\" });\\r\\n\\r\\n  return mergeRowsColumns((rows = res.rows), (columns = res.columns));\\r\\n};\\r\\n\\r\\nconst paint_links = (links)=> {\\r\\n  return links.reduce( (accum, link) =>  {\\r\\n    accum += `<div >${link.page_id}<div>`\\r\\n    return accum } \\r\\n    , \"\")\\r\\n}\\r\\n\\r\\nconst main = async () => {\\r\\n  const whodiv = document.getElementById(\\'whoami\\')\\r\\n  whodiv.innerHTML = whoami\\r\\n  \\r\\n  const mydiv = document.getElementById(\\'myDiv\\')\\r\\n  \\r\\n  const data = await get_data(sql_str = SQL_activityLog, \\'dataset1\\')\\r\\n  console.log(mydiv)\\r\\n  mydiv.innerHTML = paint_links(data)\\r\\n}\\r\\n\\r\\nmain()', 'html': '<div>\\n  <div id = \"whoami\"/>\\n  <div id = \"myDiv\" />\\n</div>', 'css': '#myDiv {\\n  display: flex;\\n  align-items: center;\\n  justify-content: center;\\n  background: rgb(131,58,180);\\n\\tbackground: linear-gradient(90deg, rgba(121,64,161,1) 0%, rgba(228,88,80,1) 50%, rgba(251,141,52,1) 100%);\\n  height: calc(100vh);\\n}\\n\\nh1 {\\n  color: white;\\n}'}})]"
      ]
     },
     "execution_count": 27,
     "metadata": {},
     "output_type": "execute_result"
    }
   ],
   "source": [
    "domo_collection = AppDbCollection.get_by_id(auth = auth, \n",
    "                          collection_id= document['collectionId'],\n",
    "                          debug_api= False\n",
    "                          )\n",
    "\n",
    "domo_collection.query_documents()"
   ]
  },
  {
   "cell_type": "code",
   "execution_count": 31,
   "metadata": {},
   "outputs": [],
   "source": [
    "#| hide\n",
    "nbdev.nbdev_export('./appdb.ipynb')"
   ]
  }
 ],
 "metadata": {
  "kernelspec": {
   "display_name": "python3",
   "language": "python",
   "name": "python3"
  },
  "language_info": {
   "codemirror_mode": {
    "name": "ipython",
    "version": 3
   },
   "file_extension": ".py",
   "mimetype": "text/x-python",
   "name": "python",
   "nbconvert_exporter": "python",
   "pygments_lexer": "ipython3",
   "version": "3.10.9"
  }
 },
 "nbformat": 4,
 "nbformat_minor": 2
}
