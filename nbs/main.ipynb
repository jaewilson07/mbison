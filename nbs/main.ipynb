{
 "cells": [
  {
   "cell_type": "code",
   "execution_count": null,
   "metadata": {},
   "outputs": [],
   "source": [
    "# class DomoInstance\n",
    "#\n",
    "# create an instance\n",
    "# takes in an instance_json which must contain the URL for the instance in the key \"instance url\" in the form of : my-instance.domo.com - no preceeding http or www\n",
    "# takes in a creds_json which contains a username and password for the instance in the keys \"DOMO_USER\" and \"DOMO_PASSWORD\" - or an access_token\n",
    "class DomoInstance:\n",
    "    \n",
    "    # initialize - connect to the instance and get a dev_token\n",
    "    def __init__(self, instance_json, creds_json):\n",
    "        self.instance_json = instance_json\n",
    "\n",
    "        self.init_auth(creds_json)\n",
    "        self.dataset_list = []\n",
    "        self.code_engine_packages = None"
   ]
  }
 ],
 "metadata": {
  "language_info": {
   "name": "python"
  }
 },
 "nbformat": 4,
 "nbformat_minor": 2
}
