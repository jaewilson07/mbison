{
 "cells": [
  {
   "cell_type": "code",
   "execution_count": null,
   "metadata": {},
   "outputs": [],
   "source": [
    "url ='https://6437e998-6914-4789-a44c-43245591e6a3.domoapps.prod1.domo.com/domo/datastores/v1/collections/ddx_app_client_code/documents/20d172b8-fd1e-46f2-ab0f-d483f009b090'\n"
   ]
  },
  {
   "cell_type": "code",
   "execution_count": null,
   "metadata": {},
   "outputs": [],
   "source": [
    "url = '\t/api/apps/v1/designs/897f9ffc-1ce2-4247-94d3-7afcb0192abb'"
   ]
  }
 ],
 "metadata": {
  "language_info": {
   "name": "python"
  }
 },
 "nbformat": 4,
 "nbformat_minor": 2
}
